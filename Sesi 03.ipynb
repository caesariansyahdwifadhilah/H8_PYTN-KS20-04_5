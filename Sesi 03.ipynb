{
 "cells": [
  {
   "cell_type": "markdown",
   "metadata": {},
   "source": [
    "# Function, Module, and Package"
   ]
  },
  {
   "cell_type": "code",
   "execution_count": 1,
   "metadata": {},
   "outputs": [
    {
     "name": "stdout",
     "output_type": "stream",
     "text": [
      "5\n"
     ]
    }
   ],
   "source": [
    "print(5)"
   ]
  },
  {
   "cell_type": "code",
   "execution_count": 2,
   "metadata": {},
   "outputs": [
    {
     "name": "stdout",
     "output_type": "stream",
     "text": [
      "Help on built-in function print in module builtins:\n",
      "\n",
      "print(*args, sep=' ', end='\\n', file=None, flush=False)\n",
      "    Prints the values to a stream, or to sys.stdout by default.\n",
      "    \n",
      "    sep\n",
      "      string inserted between values, default a space.\n",
      "    end\n",
      "      string appended after the last value, default a newline.\n",
      "    file\n",
      "      a file-like object (stream); defaults to the current sys.stdout.\n",
      "    flush\n",
      "      whether to forcibly flush the stream.\n",
      "\n"
     ]
    }
   ],
   "source": [
    "help(print)"
   ]
  },
  {
   "cell_type": "code",
   "execution_count": 3,
   "metadata": {},
   "outputs": [],
   "source": [
    "def function_name(params):\n",
    "    \"\"\"_summary_\n",
    "    ini docstring\n",
    "\n",
    "    Args:\n",
    "        params (_type_): _description_\n",
    "    \"\"\"\n",
    "    # statement\n",
    "    pass"
   ]
  },
  {
   "cell_type": "code",
   "execution_count": 4,
   "metadata": {},
   "outputs": [
    {
     "name": "stdout",
     "output_type": "stream",
     "text": [
      "Hello\n"
     ]
    }
   ],
   "source": [
    "print(\"Hello\")"
   ]
  },
  {
   "cell_type": "code",
   "execution_count": 5,
   "metadata": {},
   "outputs": [],
   "source": [
    "def cetak(params):\n",
    "    \"\"\"Alias dari print\n",
    "\n",
    "    Args:\n",
    "        params (str, int): text\n",
    "    \"\"\"\n",
    "    print(params)"
   ]
  },
  {
   "cell_type": "code",
   "execution_count": 6,
   "metadata": {},
   "outputs": [
    {
     "name": "stdout",
     "output_type": "stream",
     "text": [
      "78\n"
     ]
    }
   ],
   "source": [
    "print(78)"
   ]
  },
  {
   "cell_type": "code",
   "execution_count": 7,
   "metadata": {},
   "outputs": [
    {
     "name": "stdout",
     "output_type": "stream",
     "text": [
      "80\n"
     ]
    }
   ],
   "source": [
    "cetak(80)"
   ]
  },
  {
   "cell_type": "code",
   "execution_count": 8,
   "metadata": {},
   "outputs": [
    {
     "name": "stdout",
     "output_type": "stream",
     "text": [
      "Help on function cetak in module __main__:\n",
      "\n",
      "cetak(params)\n",
      "    Alias dari print\n",
      "    \n",
      "    Args:\n",
      "        params (str, int): text\n",
      "\n"
     ]
    }
   ],
   "source": [
    "help(cetak)"
   ]
  },
  {
   "cell_type": "markdown",
   "metadata": {},
   "source": [
    "Prinsip function adalah untuk reproducibility"
   ]
  },
  {
   "cell_type": "code",
   "execution_count": 9,
   "metadata": {},
   "outputs": [],
   "source": [
    "def my_function(p, l):\n",
    "    \"\"\"\n",
    "    Function untuk menghitung luas\n",
    "    \"\"\"\n",
    "    print(p * l)"
   ]
  },
  {
   "cell_type": "code",
   "execution_count": 10,
   "metadata": {},
   "outputs": [
    {
     "name": "stdout",
     "output_type": "stream",
     "text": [
      "80\n"
     ]
    }
   ],
   "source": [
    "my_function(10,8)"
   ]
  },
  {
   "cell_type": "code",
   "execution_count": 11,
   "metadata": {},
   "outputs": [],
   "source": [
    "def printme( str ):\n",
    "   \"This prints a passed string into this function\"\n",
    "   print(str)\n",
    "   return"
   ]
  },
  {
   "cell_type": "code",
   "execution_count": 12,
   "metadata": {},
   "outputs": [
    {
     "name": "stdout",
     "output_type": "stream",
     "text": [
      "Ini printing dengan user function\n"
     ]
    }
   ],
   "source": [
    "cetak(\"Ini printing dengan user function\")"
   ]
  },
  {
   "cell_type": "markdown",
   "metadata": {},
   "source": [
    "# Pass by reference vs Value"
   ]
  },
  {
   "cell_type": "code",
   "execution_count": 13,
   "metadata": {},
   "outputs": [],
   "source": [
    "def changeme(mylist):\n",
    "    \"This changes a passed list into this function\"\n",
    "    mylist.append([1, 2, 3, 4])\n",
    "    print(\"Values inside the function: \", mylist)\n",
    "    return"
   ]
  },
  {
   "cell_type": "code",
   "execution_count": 14,
   "metadata": {},
   "outputs": [
    {
     "name": "stdout",
     "output_type": "stream",
     "text": [
      "Values sebelum changeme:  [10, 20, 30]\n",
      "Values inside the function:  [10, 20, 30, [1, 2, 3, 4]]\n",
      "Values setelah changeme:  [10, 20, 30, [1, 2, 3, 4]]\n"
     ]
    }
   ],
   "source": [
    "mylist = [10, 20, 30]\n",
    "\n",
    "print(\"Values sebelum changeme: \", mylist)\n",
    "\n",
    "# printing Values inside\n",
    "changeme(mylist)\n",
    "\n",
    "print(\"Values setelah changeme: \", mylist)"
   ]
  },
  {
   "cell_type": "code",
   "execution_count": 15,
   "metadata": {},
   "outputs": [],
   "source": [
    "def changeme(mylist):\n",
    "    \"This changes a passed list into this function\"\n",
    "    print(\"Values inside the function, before reassignment: \", mylist)\n",
    "    mylist = [1, 2, 3, 4]  # This would assign new reference in mylist\n",
    "    print(\"Values inside the function, after reassignment: \", mylist)\n",
    "    return"
   ]
  },
  {
   "cell_type": "code",
   "execution_count": 16,
   "metadata": {},
   "outputs": [
    {
     "name": "stdout",
     "output_type": "stream",
     "text": [
      "Values sebelum changeme:  [10, 20, 30]\n",
      "Values inside the function, before reassignment:  [10, 20, 30]\n",
      "Values inside the function, after reassignment:  [1, 2, 3, 4]\n",
      "Values setelah changeme:  [10, 20, 30]\n"
     ]
    }
   ],
   "source": [
    "mylist = [10, 20, 30]\n",
    "\n",
    "print(\"Values sebelum changeme: \", mylist)\n",
    "\n",
    "# printing Values inside;\n",
    "changeme(mylist)\n",
    "\n",
    "print(\"Values setelah changeme: \", mylist)"
   ]
  },
  {
   "cell_type": "code",
   "execution_count": 17,
   "metadata": {},
   "outputs": [
    {
     "data": {
      "text/plain": [
       "1000"
      ]
     },
     "execution_count": 17,
     "metadata": {},
     "output_type": "execute_result"
    }
   ],
   "source": [
    "sumi = lambda arg1, arg2: arg1 + arg2;\n",
    "sumi(100,900)"
   ]
  },
  {
   "cell_type": "markdown",
   "metadata": {},
   "source": [
    "# Arguments\n",
    "- Required\n",
    "- Keyword\n",
    "- Deafult\n",
    "- Variable-Length"
   ]
  },
  {
   "cell_type": "markdown",
   "metadata": {},
   "source": [
    "## Required"
   ]
  },
  {
   "cell_type": "code",
   "execution_count": 18,
   "metadata": {},
   "outputs": [],
   "source": [
    "def cetak(str):\n",
    "    \"\"\"\n",
    "    Alias dari print\n",
    "    \"\"\"\n",
    "    print(str)\n",
    "    return"
   ]
  },
  {
   "cell_type": "code",
   "execution_count": 19,
   "metadata": {},
   "outputs": [
    {
     "ename": "TypeError",
     "evalue": "cetak() missing 1 required positional argument: 'str'",
     "output_type": "error",
     "traceback": [
      "\u001b[1;31m---------------------------------------------------------------------------\u001b[0m",
      "\u001b[1;31mTypeError\u001b[0m                                 Traceback (most recent call last)",
      "\u001b[1;32me:\\Python\\Stupen-Hacktiv8\\Sesi 03.ipynb Cell 24\u001b[0m line \u001b[0;36m1\n\u001b[1;32m----> <a href='vscode-notebook-cell:/e%3A/Python/Stupen-Hacktiv8/Sesi%2003.ipynb#X32sZmlsZQ%3D%3D?line=0'>1</a>\u001b[0m cetak()\n",
      "\u001b[1;31mTypeError\u001b[0m: cetak() missing 1 required positional argument: 'str'"
     ]
    }
   ],
   "source": [
    "cetak()"
   ]
  },
  {
   "cell_type": "code",
   "execution_count": 20,
   "metadata": {},
   "outputs": [
    {
     "name": "stdout",
     "output_type": "stream",
     "text": [
      "5\n",
      "ciao\n"
     ]
    },
    {
     "ename": "TypeError",
     "evalue": "cetak2() got an unexpected keyword argument 'stra'",
     "output_type": "error",
     "traceback": [
      "\u001b[1;31m---------------------------------------------------------------------------\u001b[0m",
      "\u001b[1;31mTypeError\u001b[0m                                 Traceback (most recent call last)",
      "\u001b[1;32me:\\Python\\Stupen-Hacktiv8\\Sesi 03.ipynb Cell 25\u001b[0m line \u001b[0;36m5\n\u001b[0;32m      <a href='vscode-notebook-cell:/e%3A/Python/Stupen-Hacktiv8/Sesi%2003.ipynb#X33sZmlsZQ%3D%3D?line=2'>3</a>\u001b[0m cetak2()\n\u001b[0;32m      <a href='vscode-notebook-cell:/e%3A/Python/Stupen-Hacktiv8/Sesi%2003.ipynb#X33sZmlsZQ%3D%3D?line=3'>4</a>\u001b[0m cetak2(\u001b[39mstr\u001b[39m\u001b[39m=\u001b[39m\u001b[39m\"\u001b[39m\u001b[39mciao\u001b[39m\u001b[39m\"\u001b[39m)\n\u001b[1;32m----> <a href='vscode-notebook-cell:/e%3A/Python/Stupen-Hacktiv8/Sesi%2003.ipynb#X33sZmlsZQ%3D%3D?line=4'>5</a>\u001b[0m cetak2(stra\u001b[39m=\u001b[39;49m\u001b[39m\"\u001b[39;49m\u001b[39mbonzour\u001b[39;49m\u001b[39m\"\u001b[39;49m)\n",
      "\u001b[1;31mTypeError\u001b[0m: cetak2() got an unexpected keyword argument 'stra'"
     ]
    }
   ],
   "source": [
    "def cetak2(str=5):\n",
    "    print(str)\n",
    "cetak2()\n",
    "cetak2(str=\"ciao\")\n",
    "cetak2(stra=\"bonzour\")"
   ]
  },
  {
   "cell_type": "code",
   "execution_count": 21,
   "metadata": {},
   "outputs": [
    {
     "ename": "TypeError",
     "evalue": "cetak2() takes from 0 to 1 positional arguments but 2 were given",
     "output_type": "error",
     "traceback": [
      "\u001b[1;31m---------------------------------------------------------------------------\u001b[0m",
      "\u001b[1;31mTypeError\u001b[0m                                 Traceback (most recent call last)",
      "\u001b[1;32me:\\Python\\Stupen-Hacktiv8\\Sesi 03.ipynb Cell 26\u001b[0m line \u001b[0;36m1\n\u001b[1;32m----> <a href='vscode-notebook-cell:/e%3A/Python/Stupen-Hacktiv8/Sesi%2003.ipynb#X34sZmlsZQ%3D%3D?line=0'>1</a>\u001b[0m cetak2(\u001b[39m\"\u001b[39;49m\u001b[39mhalo\u001b[39;49m\u001b[39m\"\u001b[39;49m, \u001b[39m\"\u001b[39;49m\u001b[39m world\u001b[39;49m\u001b[39m\"\u001b[39;49m)\n",
      "\u001b[1;31mTypeError\u001b[0m: cetak2() takes from 0 to 1 positional arguments but 2 were given"
     ]
    }
   ],
   "source": [
    "cetak2(\"halo\", \" world\")"
   ]
  },
  {
   "cell_type": "code",
   "execution_count": 22,
   "metadata": {},
   "outputs": [
    {
     "name": "stdout",
     "output_type": "stream",
     "text": [
      "good bye world\n"
     ]
    }
   ],
   "source": [
    "def cetak3(str, req_1=\"halo\", req_2=\"world\"):\n",
    "    print(str, req_1, req_2)\n",
    "\n",
    "cetak3(\"good\", \"bye\")"
   ]
  },
  {
   "cell_type": "code",
   "execution_count": 23,
   "metadata": {},
   "outputs": [
    {
     "name": "stdout",
     "output_type": "stream",
     "text": [
      "5 halo world\n"
     ]
    }
   ],
   "source": [
    "cetak3(5)"
   ]
  },
  {
   "cell_type": "code",
   "execution_count": 24,
   "metadata": {},
   "outputs": [
    {
     "name": "stdout",
     "output_type": "stream",
     "text": [
      "5 bye good\n"
     ]
    }
   ],
   "source": [
    "cetak3(str=5, req_1=\"bye\", req_2=\"good\")"
   ]
  },
  {
   "cell_type": "code",
   "execution_count": 25,
   "metadata": {},
   "outputs": [
    {
     "ename": "SyntaxError",
     "evalue": "positional argument follows keyword argument (3876775494.py, line 1)",
     "output_type": "error",
     "traceback": [
      "\u001b[1;36m  Cell \u001b[1;32mIn[25], line 1\u001b[1;36m\u001b[0m\n\u001b[1;33m    cetak3(str=5, req_1=\"bye\", \"good\")\u001b[0m\n\u001b[1;37m                                     ^\u001b[0m\n\u001b[1;31mSyntaxError\u001b[0m\u001b[1;31m:\u001b[0m positional argument follows keyword argument\n"
     ]
    }
   ],
   "source": [
    "cetak3(str=5, req_1=\"bye\", \"good\")"
   ]
  },
  {
   "cell_type": "code",
   "execution_count": 26,
   "metadata": {},
   "outputs": [
    {
     "name": "stdout",
     "output_type": "stream",
     "text": [
      "5 good bye\n"
     ]
    }
   ],
   "source": [
    "cetak3(5, req_2=\"bye\", req_1=\"good\")"
   ]
  },
  {
   "cell_type": "code",
   "execution_count": 27,
   "metadata": {},
   "outputs": [
    {
     "ename": "TypeError",
     "evalue": "cetak3() got multiple values for argument 'str'",
     "output_type": "error",
     "traceback": [
      "\u001b[1;31m---------------------------------------------------------------------------\u001b[0m",
      "\u001b[1;31mTypeError\u001b[0m                                 Traceback (most recent call last)",
      "\u001b[1;32me:\\Python\\Stupen-Hacktiv8\\Sesi 03.ipynb Cell 32\u001b[0m line \u001b[0;36m1\n\u001b[1;32m----> <a href='vscode-notebook-cell:/e%3A/Python/Stupen-Hacktiv8/Sesi%2003.ipynb#X43sZmlsZQ%3D%3D?line=0'>1</a>\u001b[0m cetak3(\u001b[39m\"\u001b[39;49m\u001b[39mbye\u001b[39;49m\u001b[39m\"\u001b[39;49m, req_1\u001b[39m=\u001b[39;49m\u001b[39m\"\u001b[39;49m\u001b[39mgood\u001b[39;49m\u001b[39m\"\u001b[39;49m, \u001b[39mstr\u001b[39;49m\u001b[39m=\u001b[39;49m\u001b[39m5\u001b[39;49m)\n",
      "\u001b[1;31mTypeError\u001b[0m: cetak3() got multiple values for argument 'str'"
     ]
    }
   ],
   "source": [
    "cetak3(\"bye\", req_1=\"good\", str=5)"
   ]
  },
  {
   "cell_type": "code",
   "execution_count": 28,
   "metadata": {},
   "outputs": [],
   "source": [
    "def printinfo(arg1, *args):\n",
    "    \"\"\"\n",
    "    This prints a variable passed arguments\n",
    "    \"\"\"\n",
    "    print(\"Output is: \")\n",
    "    print(arg1)\n",
    "    print(args)\n",
    "    print(type(args))\n",
    "    # for var in args:\n",
    "    #     print(var)\n",
    "    return"
   ]
  },
  {
   "cell_type": "code",
   "execution_count": 29,
   "metadata": {},
   "outputs": [
    {
     "name": "stdout",
     "output_type": "stream",
     "text": [
      "Output is: \n",
      "10\n",
      "()\n",
      "<class 'tuple'>\n"
     ]
    },
    {
     "ename": "TypeError",
     "evalue": "printinfo() got an unexpected keyword argument 'req_1'",
     "output_type": "error",
     "traceback": [
      "\u001b[1;31m---------------------------------------------------------------------------\u001b[0m",
      "\u001b[1;31mTypeError\u001b[0m                                 Traceback (most recent call last)",
      "\u001b[1;32me:\\Python\\Stupen-Hacktiv8\\Sesi 03.ipynb Cell 34\u001b[0m line \u001b[0;36m2\n\u001b[0;32m      <a href='vscode-notebook-cell:/e%3A/Python/Stupen-Hacktiv8/Sesi%2003.ipynb#X45sZmlsZQ%3D%3D?line=0'>1</a>\u001b[0m printinfo(\u001b[39m10\u001b[39m)\n\u001b[1;32m----> <a href='vscode-notebook-cell:/e%3A/Python/Stupen-Hacktiv8/Sesi%2003.ipynb#X45sZmlsZQ%3D%3D?line=1'>2</a>\u001b[0m printinfo(\u001b[39m10\u001b[39;49m, \u001b[39m20\u001b[39;49m, \u001b[39m30\u001b[39;49m, \u001b[39m40\u001b[39;49m, \u001b[39m50\u001b[39;49m, \u001b[39m\"\u001b[39;49m\u001b[39ma\u001b[39;49m\u001b[39m\"\u001b[39;49m, req_1\u001b[39m=\u001b[39;49m\u001b[39m\"\u001b[39;49m\u001b[39mb\u001b[39;49m\u001b[39m\"\u001b[39;49m)\n",
      "\u001b[1;31mTypeError\u001b[0m: printinfo() got an unexpected keyword argument 'req_1'"
     ]
    }
   ],
   "source": [
    "printinfo(10)\n",
    "printinfo(10, 20, 30, 40, 50, \"a\", req_1=\"b\")"
   ]
  },
  {
   "cell_type": "code",
   "execution_count": 30,
   "metadata": {},
   "outputs": [],
   "source": [
    "\n",
    "def printinfo2(arg1, arg2=5, **kwargs):\n",
    "    \"\"\"\n",
    "    This prints a variable passed arguments\n",
    "    \"\"\"\n",
    "    print(\"Output is: \")\n",
    "    print(arg1)\n",
    "    print(arg2)\n",
    "    if kwargs:\n",
    "        print(kwargs[\"b\"])\n",
    "    # for var in args:\n",
    "    #     print(var)\n",
    "    return"
   ]
  },
  {
   "cell_type": "code",
   "execution_count": 31,
   "metadata": {},
   "outputs": [
    {
     "name": "stdout",
     "output_type": "stream",
     "text": [
      "Output is: \n",
      "10\n",
      "5\n",
      "Output is: \n",
      "10\n",
      "20\n",
      "30\n"
     ]
    }
   ],
   "source": [
    "printinfo2(10)\n",
    "printinfo2(10, 20, b=30, c=40, d=\"a\")"
   ]
  },
  {
   "cell_type": "markdown",
   "metadata": {},
   "source": [
    "# Anonymous Function"
   ]
  },
  {
   "cell_type": "code",
   "execution_count": 32,
   "metadata": {},
   "outputs": [
    {
     "name": "stdout",
     "output_type": "stream",
     "text": [
      "200\n"
     ]
    }
   ],
   "source": [
    "def hitung_luas(p, l):\n",
    "    print(p * l)\n",
    "\n",
    "hitung_luas(10, 20)"
   ]
  },
  {
   "cell_type": "code",
   "execution_count": 33,
   "metadata": {},
   "outputs": [],
   "source": [
    "luas = lambda p, l: print(p * l)"
   ]
  },
  {
   "cell_type": "code",
   "execution_count": 34,
   "metadata": {},
   "outputs": [
    {
     "name": "stdout",
     "output_type": "stream",
     "text": [
      "30\n"
     ]
    }
   ],
   "source": [
    "luas (15,2)"
   ]
  },
  {
   "cell_type": "code",
   "execution_count": 35,
   "metadata": {},
   "outputs": [],
   "source": [
    "mylist = [1,2,3]"
   ]
  },
  {
   "cell_type": "code",
   "execution_count": 36,
   "metadata": {},
   "outputs": [
    {
     "name": "stdout",
     "output_type": "stream",
     "text": [
      "[2, 4, 6]\n"
     ]
    }
   ],
   "source": [
    "# for loop\n",
    "newlist = []\n",
    "for i in mylist:\n",
    "    newlist.append(i * 2)\n",
    "\n",
    "print(newlist)"
   ]
  },
  {
   "cell_type": "code",
   "execution_count": 37,
   "metadata": {},
   "outputs": [
    {
     "data": {
      "text/plain": [
       "[2, 4, 6]"
      ]
     },
     "execution_count": 37,
     "metadata": {},
     "output_type": "execute_result"
    }
   ],
   "source": [
    "# list comprehension\n",
    "[(i * 2) for i in mylist]"
   ]
  },
  {
   "cell_type": "code",
   "execution_count": 38,
   "metadata": {},
   "outputs": [
    {
     "data": {
      "text/plain": [
       "[2, 4, 6]"
      ]
     },
     "execution_count": 38,
     "metadata": {},
     "output_type": "execute_result"
    }
   ],
   "source": [
    "# bikin function\n",
    "def kalidua(x):\n",
    "    return x * 2\n",
    "\n",
    "lambda x: x * 2\n",
    "\n",
    "list(map(kalidua, mylist))"
   ]
  },
  {
   "cell_type": "code",
   "execution_count": 39,
   "metadata": {},
   "outputs": [
    {
     "data": {
      "text/plain": [
       "[2, 4, 6]"
      ]
     },
     "execution_count": 39,
     "metadata": {},
     "output_type": "execute_result"
    }
   ],
   "source": [
    "# lambda function\n",
    "list(map(lambda x: x * 2, mylist))"
   ]
  },
  {
   "cell_type": "markdown",
   "metadata": {},
   "source": [
    "# Return"
   ]
  },
  {
   "cell_type": "code",
   "execution_count": 40,
   "metadata": {},
   "outputs": [
    {
     "name": "stdout",
     "output_type": "stream",
     "text": [
      "Inside the function:  30\n",
      "Outside the function:  60\n"
     ]
    }
   ],
   "source": [
    "def sum_kalidua(arg1, arg2):\n",
    "    \"\"\"\n",
    "    Add both parameter and return\n",
    "    \"\"\"\n",
    "    total = arg1 + arg2  # local variable\n",
    "    total2 = total * 2\n",
    "    print(\"Inside the function: \", total)\n",
    "    return total2\n",
    "\n",
    "total = sum_kalidua(10, 20)  # global variable\n",
    "print(\"Outside the function: \", total)"
   ]
  },
  {
   "cell_type": "markdown",
   "metadata": {},
   "source": [
    "# Global VS Local Variable"
   ]
  },
  {
   "cell_type": "code",
   "execution_count": 41,
   "metadata": {},
   "outputs": [
    {
     "name": "stdout",
     "output_type": "stream",
     "text": [
      "Inside the function local total:  30\n",
      "Outside the function global total:  0\n"
     ]
    }
   ],
   "source": [
    "total = 0\n",
    "\n",
    "def sum(arg1, arg2):\n",
    "    total = arg1 + arg2\n",
    "    print(\"Inside the function local total: \", total)\n",
    "    return total\n",
    "\n",
    "sum(10, 20)\n",
    "print(\"Outside the function global total: \", total)"
   ]
  },
  {
   "cell_type": "code",
   "execution_count": 53,
   "metadata": {},
   "outputs": [
    {
     "name": "stdout",
     "output_type": "stream",
     "text": [
      "arg = halo\n"
     ]
    }
   ],
   "source": [
    "mod.foo(\"halo\")"
   ]
  },
  {
   "cell_type": "code",
   "execution_count": 54,
   "metadata": {},
   "outputs": [
    {
     "data": {
      "text/plain": [
       "mod.Foo"
      ]
     },
     "execution_count": 54,
     "metadata": {},
     "output_type": "execute_result"
    }
   ],
   "source": [
    "mod.Foo"
   ]
  },
  {
   "cell_type": "code",
   "execution_count": 55,
   "metadata": {},
   "outputs": [],
   "source": [
    "import sys"
   ]
  },
  {
   "cell_type": "code",
   "execution_count": 56,
   "metadata": {},
   "outputs": [
    {
     "data": {
      "text/plain": [
       "['e:\\\\Python\\\\Stupen-Hacktiv8',\n",
       " 'c:\\\\Users\\\\acer_\\\\AppData\\\\Local\\\\Programs\\\\Python\\\\Python311\\\\python311.zip',\n",
       " 'c:\\\\Users\\\\acer_\\\\AppData\\\\Local\\\\Programs\\\\Python\\\\Python311\\\\DLLs',\n",
       " 'c:\\\\Users\\\\acer_\\\\AppData\\\\Local\\\\Programs\\\\Python\\\\Python311\\\\Lib',\n",
       " 'c:\\\\Users\\\\acer_\\\\AppData\\\\Local\\\\Programs\\\\Python\\\\Python311',\n",
       " '',\n",
       " 'C:\\\\Users\\\\acer_\\\\AppData\\\\Roaming\\\\Python\\\\Python311\\\\site-packages',\n",
       " 'C:\\\\Users\\\\acer_\\\\AppData\\\\Roaming\\\\Python\\\\Python311\\\\site-packages\\\\win32',\n",
       " 'C:\\\\Users\\\\acer_\\\\AppData\\\\Roaming\\\\Python\\\\Python311\\\\site-packages\\\\win32\\\\lib',\n",
       " 'C:\\\\Users\\\\acer_\\\\AppData\\\\Roaming\\\\Python\\\\Python311\\\\site-packages\\\\Pythonwin',\n",
       " 'c:\\\\Users\\\\acer_\\\\AppData\\\\Local\\\\Programs\\\\Python\\\\Python311\\\\Lib\\\\site-packages',\n",
       " 'c:\\\\Users\\\\acer_\\\\AppData\\\\Local\\\\Programs\\\\Python\\\\Python311\\\\Lib\\\\site-packages\\\\win32',\n",
       " 'c:\\\\Users\\\\acer_\\\\AppData\\\\Local\\\\Programs\\\\Python\\\\Python311\\\\Lib\\\\site-packages\\\\win32\\\\lib',\n",
       " 'c:\\\\Users\\\\acer_\\\\AppData\\\\Local\\\\Programs\\\\Python\\\\Python311\\\\Lib\\\\site-packages\\\\Pythonwin']"
      ]
     },
     "execution_count": 56,
     "metadata": {},
     "output_type": "execute_result"
    }
   ],
   "source": [
    "sys.path"
   ]
  },
  {
   "cell_type": "code",
   "execution_count": 57,
   "metadata": {},
   "outputs": [],
   "source": [
    "import argparse"
   ]
  },
  {
   "cell_type": "code",
   "execution_count": 58,
   "metadata": {},
   "outputs": [
    {
     "name": "stdout",
     "output_type": "stream",
     "text": [
      "Help on module argparse:\n",
      "\n",
      "NAME\n",
      "    argparse - Command-line parsing library\n",
      "\n",
      "MODULE REFERENCE\n",
      "    https://docs.python.org/3.11/library/argparse.html\n",
      "    \n",
      "    The following documentation is automatically generated from the Python\n",
      "    source files.  It may be incomplete, incorrect or include features that\n",
      "    are considered implementation detail and may vary between Python\n",
      "    implementations.  When in doubt, consult the module reference at the\n",
      "    location listed above.\n",
      "\n",
      "DESCRIPTION\n",
      "    This module is an optparse-inspired command-line parsing library that:\n",
      "    \n",
      "        - handles both optional and positional arguments\n",
      "        - produces highly informative usage messages\n",
      "        - supports parsers that dispatch to sub-parsers\n",
      "    \n",
      "    The following is a simple usage example that sums integers from the\n",
      "    command-line and writes the result to a file::\n",
      "    \n",
      "        parser = argparse.ArgumentParser(\n",
      "            description='sum the integers at the command line')\n",
      "        parser.add_argument(\n",
      "            'integers', metavar='int', nargs='+', type=int,\n",
      "            help='an integer to be summed')\n",
      "        parser.add_argument(\n",
      "            '--log', default=sys.stdout, type=argparse.FileType('w'),\n",
      "            help='the file where the sum should be written')\n",
      "        args = parser.parse_args()\n",
      "        args.log.write('%s' % sum(args.integers))\n",
      "        args.log.close()\n",
      "    \n",
      "    The module contains the following public classes:\n",
      "    \n",
      "        - ArgumentParser -- The main entry point for command-line parsing. As the\n",
      "            example above shows, the add_argument() method is used to populate\n",
      "            the parser with actions for optional and positional arguments. Then\n",
      "            the parse_args() method is invoked to convert the args at the\n",
      "            command-line into an object with attributes.\n",
      "    \n",
      "        - ArgumentError -- The exception raised by ArgumentParser objects when\n",
      "            there are errors with the parser's actions. Errors raised while\n",
      "            parsing the command-line are caught by ArgumentParser and emitted\n",
      "            as command-line messages.\n",
      "    \n",
      "        - FileType -- A factory for defining types of files to be created. As the\n",
      "            example above shows, instances of FileType are typically passed as\n",
      "            the type= argument of add_argument() calls.\n",
      "    \n",
      "        - Action -- The base class for parser actions. Typically actions are\n",
      "            selected by passing strings like 'store_true' or 'append_const' to\n",
      "            the action= argument of add_argument(). However, for greater\n",
      "            customization of ArgumentParser actions, subclasses of Action may\n",
      "            be defined and passed as the action= argument.\n",
      "    \n",
      "        - HelpFormatter, RawDescriptionHelpFormatter, RawTextHelpFormatter,\n",
      "            ArgumentDefaultsHelpFormatter -- Formatter classes which\n",
      "            may be passed as the formatter_class= argument to the\n",
      "            ArgumentParser constructor. HelpFormatter is the default,\n",
      "            RawDescriptionHelpFormatter and RawTextHelpFormatter tell the parser\n",
      "            not to change the formatting for help text, and\n",
      "            ArgumentDefaultsHelpFormatter adds information about argument defaults\n",
      "            to the help.\n",
      "    \n",
      "    All other classes in this module are considered implementation details.\n",
      "    (Also note that HelpFormatter and RawDescriptionHelpFormatter are only\n",
      "    considered public as object names -- the API of the formatter objects is\n",
      "    still considered an implementation detail.)\n",
      "\n",
      "CLASSES\n",
      "    _ActionsContainer(builtins.object)\n",
      "        ArgumentParser(_AttributeHolder, _ActionsContainer)\n",
      "    _AttributeHolder(builtins.object)\n",
      "        Action\n",
      "            BooleanOptionalAction\n",
      "        ArgumentParser(_AttributeHolder, _ActionsContainer)\n",
      "        Namespace\n",
      "    builtins.Exception(builtins.BaseException)\n",
      "        ArgumentError\n",
      "        ArgumentTypeError\n",
      "    builtins.object\n",
      "        FileType\n",
      "        HelpFormatter\n",
      "            ArgumentDefaultsHelpFormatter\n",
      "            MetavarTypeHelpFormatter\n",
      "            RawDescriptionHelpFormatter\n",
      "                RawTextHelpFormatter\n",
      "    \n",
      "    class Action(_AttributeHolder)\n",
      "     |  Action(option_strings, dest, nargs=None, const=None, default=None, type=None, choices=None, required=False, help=None, metavar=None)\n",
      "     |  \n",
      "     |  Information about how to convert command line strings to Python objects.\n",
      "     |  \n",
      "     |  Action objects are used by an ArgumentParser to represent the information\n",
      "     |  needed to parse a single argument from one or more strings from the\n",
      "     |  command line. The keyword arguments to the Action constructor are also\n",
      "     |  all attributes of Action instances.\n",
      "     |  \n",
      "     |  Keyword Arguments:\n",
      "     |  \n",
      "     |      - option_strings -- A list of command-line option strings which\n",
      "     |          should be associated with this action.\n",
      "     |  \n",
      "     |      - dest -- The name of the attribute to hold the created object(s)\n",
      "     |  \n",
      "     |      - nargs -- The number of command-line arguments that should be\n",
      "     |          consumed. By default, one argument will be consumed and a single\n",
      "     |          value will be produced.  Other values include:\n",
      "     |              - N (an integer) consumes N arguments (and produces a list)\n",
      "     |              - '?' consumes zero or one arguments\n",
      "     |              - '*' consumes zero or more arguments (and produces a list)\n",
      "     |              - '+' consumes one or more arguments (and produces a list)\n",
      "     |          Note that the difference between the default and nargs=1 is that\n",
      "     |          with the default, a single value will be produced, while with\n",
      "     |          nargs=1, a list containing a single value will be produced.\n",
      "     |  \n",
      "     |      - const -- The value to be produced if the option is specified and the\n",
      "     |          option uses an action that takes no values.\n",
      "     |  \n",
      "     |      - default -- The value to be produced if the option is not specified.\n",
      "     |  \n",
      "     |      - type -- A callable that accepts a single string argument, and\n",
      "     |          returns the converted value.  The standard Python types str, int,\n",
      "     |          float, and complex are useful examples of such callables.  If None,\n",
      "     |          str is used.\n",
      "     |  \n",
      "     |      - choices -- A container of values that should be allowed. If not None,\n",
      "     |          after a command-line argument has been converted to the appropriate\n",
      "     |          type, an exception will be raised if it is not a member of this\n",
      "     |          collection.\n",
      "     |  \n",
      "     |      - required -- True if the action must always be specified at the\n",
      "     |          command line. This is only meaningful for optional command-line\n",
      "     |          arguments.\n",
      "     |  \n",
      "     |      - help -- The help string describing the argument.\n",
      "     |  \n",
      "     |      - metavar -- The name to be used for the option's argument with the\n",
      "     |          help string. If None, the 'dest' value will be used as the name.\n",
      "     |  \n",
      "     |  Method resolution order:\n",
      "     |      Action\n",
      "     |      _AttributeHolder\n",
      "     |      builtins.object\n",
      "     |  \n",
      "     |  Methods defined here:\n",
      "     |  \n",
      "     |  __call__(self, parser, namespace, values, option_string=None)\n",
      "     |      Call self as a function.\n",
      "     |  \n",
      "     |  __init__(self, option_strings, dest, nargs=None, const=None, default=None, type=None, choices=None, required=False, help=None, metavar=None)\n",
      "     |      Initialize self.  See help(type(self)) for accurate signature.\n",
      "     |  \n",
      "     |  format_usage(self)\n",
      "     |  \n",
      "     |  ----------------------------------------------------------------------\n",
      "     |  Methods inherited from _AttributeHolder:\n",
      "     |  \n",
      "     |  __repr__(self)\n",
      "     |      Return repr(self).\n",
      "     |  \n",
      "     |  ----------------------------------------------------------------------\n",
      "     |  Data descriptors inherited from _AttributeHolder:\n",
      "     |  \n",
      "     |  __dict__\n",
      "     |      dictionary for instance variables (if defined)\n",
      "     |  \n",
      "     |  __weakref__\n",
      "     |      list of weak references to the object (if defined)\n",
      "    \n",
      "    class ArgumentDefaultsHelpFormatter(HelpFormatter)\n",
      "     |  ArgumentDefaultsHelpFormatter(prog, indent_increment=2, max_help_position=24, width=None)\n",
      "     |  \n",
      "     |  Help message formatter which adds default values to argument help.\n",
      "     |  \n",
      "     |  Only the name of this class is considered a public API. All the methods\n",
      "     |  provided by the class are considered an implementation detail.\n",
      "     |  \n",
      "     |  Method resolution order:\n",
      "     |      ArgumentDefaultsHelpFormatter\n",
      "     |      HelpFormatter\n",
      "     |      builtins.object\n",
      "     |  \n",
      "     |  Methods inherited from HelpFormatter:\n",
      "     |  \n",
      "     |  __init__(self, prog, indent_increment=2, max_help_position=24, width=None)\n",
      "     |      Initialize self.  See help(type(self)) for accurate signature.\n",
      "     |  \n",
      "     |  add_argument(self, action)\n",
      "     |  \n",
      "     |  add_arguments(self, actions)\n",
      "     |  \n",
      "     |  add_text(self, text)\n",
      "     |  \n",
      "     |  add_usage(self, usage, actions, groups, prefix=None)\n",
      "     |  \n",
      "     |  end_section(self)\n",
      "     |  \n",
      "     |  format_help(self)\n",
      "     |      # =======================\n",
      "     |      # Help-formatting methods\n",
      "     |      # =======================\n",
      "     |  \n",
      "     |  start_section(self, heading)\n",
      "     |      # ========================\n",
      "     |      # Message building methods\n",
      "     |      # ========================\n",
      "     |  \n",
      "     |  ----------------------------------------------------------------------\n",
      "     |  Data descriptors inherited from HelpFormatter:\n",
      "     |  \n",
      "     |  __dict__\n",
      "     |      dictionary for instance variables (if defined)\n",
      "     |  \n",
      "     |  __weakref__\n",
      "     |      list of weak references to the object (if defined)\n",
      "    \n",
      "    class ArgumentError(builtins.Exception)\n",
      "     |  ArgumentError(argument, message)\n",
      "     |  \n",
      "     |  An error from creating or using an argument (optional or positional).\n",
      "     |  \n",
      "     |  The string value of this exception is the message, augmented with\n",
      "     |  information about the argument that caused it.\n",
      "     |  \n",
      "     |  Method resolution order:\n",
      "     |      ArgumentError\n",
      "     |      builtins.Exception\n",
      "     |      builtins.BaseException\n",
      "     |      builtins.object\n",
      "     |  \n",
      "     |  Methods defined here:\n",
      "     |  \n",
      "     |  __init__(self, argument, message)\n",
      "     |      Initialize self.  See help(type(self)) for accurate signature.\n",
      "     |  \n",
      "     |  __str__(self)\n",
      "     |      Return str(self).\n",
      "     |  \n",
      "     |  ----------------------------------------------------------------------\n",
      "     |  Data descriptors defined here:\n",
      "     |  \n",
      "     |  __weakref__\n",
      "     |      list of weak references to the object (if defined)\n",
      "     |  \n",
      "     |  ----------------------------------------------------------------------\n",
      "     |  Static methods inherited from builtins.Exception:\n",
      "     |  \n",
      "     |  __new__(*args, **kwargs) from builtins.type\n",
      "     |      Create and return a new object.  See help(type) for accurate signature.\n",
      "     |  \n",
      "     |  ----------------------------------------------------------------------\n",
      "     |  Methods inherited from builtins.BaseException:\n",
      "     |  \n",
      "     |  __delattr__(self, name, /)\n",
      "     |      Implement delattr(self, name).\n",
      "     |  \n",
      "     |  __getattribute__(self, name, /)\n",
      "     |      Return getattr(self, name).\n",
      "     |  \n",
      "     |  __reduce__(...)\n",
      "     |      Helper for pickle.\n",
      "     |  \n",
      "     |  __repr__(self, /)\n",
      "     |      Return repr(self).\n",
      "     |  \n",
      "     |  __setattr__(self, name, value, /)\n",
      "     |      Implement setattr(self, name, value).\n",
      "     |  \n",
      "     |  __setstate__(...)\n",
      "     |  \n",
      "     |  add_note(...)\n",
      "     |      Exception.add_note(note) --\n",
      "     |      add a note to the exception\n",
      "     |  \n",
      "     |  with_traceback(...)\n",
      "     |      Exception.with_traceback(tb) --\n",
      "     |      set self.__traceback__ to tb and return self.\n",
      "     |  \n",
      "     |  ----------------------------------------------------------------------\n",
      "     |  Data descriptors inherited from builtins.BaseException:\n",
      "     |  \n",
      "     |  __cause__\n",
      "     |      exception cause\n",
      "     |  \n",
      "     |  __context__\n",
      "     |      exception context\n",
      "     |  \n",
      "     |  __dict__\n",
      "     |  \n",
      "     |  __suppress_context__\n",
      "     |  \n",
      "     |  __traceback__\n",
      "     |  \n",
      "     |  args\n",
      "    \n",
      "    class ArgumentParser(_AttributeHolder, _ActionsContainer)\n",
      "     |  ArgumentParser(prog=None, usage=None, description=None, epilog=None, parents=[], formatter_class=<class 'argparse.HelpFormatter'>, prefix_chars='-', fromfile_prefix_chars=None, argument_default=None, conflict_handler='error', add_help=True, allow_abbrev=True, exit_on_error=True)\n",
      "     |  \n",
      "     |  Object for parsing command line strings into Python objects.\n",
      "     |  \n",
      "     |  Keyword Arguments:\n",
      "     |      - prog -- The name of the program (default:\n",
      "     |          ``os.path.basename(sys.argv[0])``)\n",
      "     |      - usage -- A usage message (default: auto-generated from arguments)\n",
      "     |      - description -- A description of what the program does\n",
      "     |      - epilog -- Text following the argument descriptions\n",
      "     |      - parents -- Parsers whose arguments should be copied into this one\n",
      "     |      - formatter_class -- HelpFormatter class for printing help messages\n",
      "     |      - prefix_chars -- Characters that prefix optional arguments\n",
      "     |      - fromfile_prefix_chars -- Characters that prefix files containing\n",
      "     |          additional arguments\n",
      "     |      - argument_default -- The default value for all arguments\n",
      "     |      - conflict_handler -- String indicating how to handle conflicts\n",
      "     |      - add_help -- Add a -h/-help option\n",
      "     |      - allow_abbrev -- Allow long options to be abbreviated unambiguously\n",
      "     |      - exit_on_error -- Determines whether or not ArgumentParser exits with\n",
      "     |          error info when an error occurs\n",
      "     |  \n",
      "     |  Method resolution order:\n",
      "     |      ArgumentParser\n",
      "     |      _AttributeHolder\n",
      "     |      _ActionsContainer\n",
      "     |      builtins.object\n",
      "     |  \n",
      "     |  Methods defined here:\n",
      "     |  \n",
      "     |  __init__(self, prog=None, usage=None, description=None, epilog=None, parents=[], formatter_class=<class 'argparse.HelpFormatter'>, prefix_chars='-', fromfile_prefix_chars=None, argument_default=None, conflict_handler='error', add_help=True, allow_abbrev=True, exit_on_error=True)\n",
      "     |      Initialize self.  See help(type(self)) for accurate signature.\n",
      "     |  \n",
      "     |  add_subparsers(self, **kwargs)\n",
      "     |      # ==================================\n",
      "     |      # Optional/Positional adding methods\n",
      "     |      # ==================================\n",
      "     |  \n",
      "     |  convert_arg_line_to_args(self, arg_line)\n",
      "     |  \n",
      "     |  error(self, message)\n",
      "     |      error(message: string)\n",
      "     |      \n",
      "     |      Prints a usage message incorporating the message to stderr and\n",
      "     |      exits.\n",
      "     |      \n",
      "     |      If you override this in a subclass, it should not return -- it\n",
      "     |      should either exit or raise an exception.\n",
      "     |  \n",
      "     |  exit(self, status=0, message=None)\n",
      "     |      # ===============\n",
      "     |      # Exiting methods\n",
      "     |      # ===============\n",
      "     |  \n",
      "     |  format_help(self)\n",
      "     |  \n",
      "     |  format_usage(self)\n",
      "     |      # =======================\n",
      "     |      # Help-formatting methods\n",
      "     |      # =======================\n",
      "     |  \n",
      "     |  parse_args(self, args=None, namespace=None)\n",
      "     |      # =====================================\n",
      "     |      # Command line argument parsing methods\n",
      "     |      # =====================================\n",
      "     |  \n",
      "     |  parse_intermixed_args(self, args=None, namespace=None)\n",
      "     |  \n",
      "     |  parse_known_args(self, args=None, namespace=None)\n",
      "     |  \n",
      "     |  parse_known_intermixed_args(self, args=None, namespace=None)\n",
      "     |  \n",
      "     |  print_help(self, file=None)\n",
      "     |  \n",
      "     |  print_usage(self, file=None)\n",
      "     |      # =====================\n",
      "     |      # Help-printing methods\n",
      "     |      # =====================\n",
      "     |  \n",
      "     |  ----------------------------------------------------------------------\n",
      "     |  Methods inherited from _AttributeHolder:\n",
      "     |  \n",
      "     |  __repr__(self)\n",
      "     |      Return repr(self).\n",
      "     |  \n",
      "     |  ----------------------------------------------------------------------\n",
      "     |  Data descriptors inherited from _AttributeHolder:\n",
      "     |  \n",
      "     |  __dict__\n",
      "     |      dictionary for instance variables (if defined)\n",
      "     |  \n",
      "     |  __weakref__\n",
      "     |      list of weak references to the object (if defined)\n",
      "     |  \n",
      "     |  ----------------------------------------------------------------------\n",
      "     |  Methods inherited from _ActionsContainer:\n",
      "     |  \n",
      "     |  add_argument(self, *args, **kwargs)\n",
      "     |      add_argument(dest, ..., name=value, ...)\n",
      "     |      add_argument(option_string, option_string, ..., name=value, ...)\n",
      "     |  \n",
      "     |  add_argument_group(self, *args, **kwargs)\n",
      "     |  \n",
      "     |  add_mutually_exclusive_group(self, **kwargs)\n",
      "     |  \n",
      "     |  get_default(self, dest)\n",
      "     |  \n",
      "     |  register(self, registry_name, value, object)\n",
      "     |      # ====================\n",
      "     |      # Registration methods\n",
      "     |      # ====================\n",
      "     |  \n",
      "     |  set_defaults(self, **kwargs)\n",
      "     |      # ==================================\n",
      "     |      # Namespace default accessor methods\n",
      "     |      # ==================================\n",
      "    \n",
      "    class ArgumentTypeError(builtins.Exception)\n",
      "     |  An error from trying to convert a command line string to a type.\n",
      "     |  \n",
      "     |  Method resolution order:\n",
      "     |      ArgumentTypeError\n",
      "     |      builtins.Exception\n",
      "     |      builtins.BaseException\n",
      "     |      builtins.object\n",
      "     |  \n",
      "     |  Data descriptors defined here:\n",
      "     |  \n",
      "     |  __weakref__\n",
      "     |      list of weak references to the object (if defined)\n",
      "     |  \n",
      "     |  ----------------------------------------------------------------------\n",
      "     |  Methods inherited from builtins.Exception:\n",
      "     |  \n",
      "     |  __init__(self, /, *args, **kwargs)\n",
      "     |      Initialize self.  See help(type(self)) for accurate signature.\n",
      "     |  \n",
      "     |  ----------------------------------------------------------------------\n",
      "     |  Static methods inherited from builtins.Exception:\n",
      "     |  \n",
      "     |  __new__(*args, **kwargs) from builtins.type\n",
      "     |      Create and return a new object.  See help(type) for accurate signature.\n",
      "     |  \n",
      "     |  ----------------------------------------------------------------------\n",
      "     |  Methods inherited from builtins.BaseException:\n",
      "     |  \n",
      "     |  __delattr__(self, name, /)\n",
      "     |      Implement delattr(self, name).\n",
      "     |  \n",
      "     |  __getattribute__(self, name, /)\n",
      "     |      Return getattr(self, name).\n",
      "     |  \n",
      "     |  __reduce__(...)\n",
      "     |      Helper for pickle.\n",
      "     |  \n",
      "     |  __repr__(self, /)\n",
      "     |      Return repr(self).\n",
      "     |  \n",
      "     |  __setattr__(self, name, value, /)\n",
      "     |      Implement setattr(self, name, value).\n",
      "     |  \n",
      "     |  __setstate__(...)\n",
      "     |  \n",
      "     |  __str__(self, /)\n",
      "     |      Return str(self).\n",
      "     |  \n",
      "     |  add_note(...)\n",
      "     |      Exception.add_note(note) --\n",
      "     |      add a note to the exception\n",
      "     |  \n",
      "     |  with_traceback(...)\n",
      "     |      Exception.with_traceback(tb) --\n",
      "     |      set self.__traceback__ to tb and return self.\n",
      "     |  \n",
      "     |  ----------------------------------------------------------------------\n",
      "     |  Data descriptors inherited from builtins.BaseException:\n",
      "     |  \n",
      "     |  __cause__\n",
      "     |      exception cause\n",
      "     |  \n",
      "     |  __context__\n",
      "     |      exception context\n",
      "     |  \n",
      "     |  __dict__\n",
      "     |  \n",
      "     |  __suppress_context__\n",
      "     |  \n",
      "     |  __traceback__\n",
      "     |  \n",
      "     |  args\n",
      "    \n",
      "    class BooleanOptionalAction(Action)\n",
      "     |  BooleanOptionalAction(option_strings, dest, default=None, type=None, choices=None, required=False, help=None, metavar=None)\n",
      "     |  \n",
      "     |  Method resolution order:\n",
      "     |      BooleanOptionalAction\n",
      "     |      Action\n",
      "     |      _AttributeHolder\n",
      "     |      builtins.object\n",
      "     |  \n",
      "     |  Methods defined here:\n",
      "     |  \n",
      "     |  __call__(self, parser, namespace, values, option_string=None)\n",
      "     |      Call self as a function.\n",
      "     |  \n",
      "     |  __init__(self, option_strings, dest, default=None, type=None, choices=None, required=False, help=None, metavar=None)\n",
      "     |      Initialize self.  See help(type(self)) for accurate signature.\n",
      "     |  \n",
      "     |  format_usage(self)\n",
      "     |  \n",
      "     |  ----------------------------------------------------------------------\n",
      "     |  Methods inherited from _AttributeHolder:\n",
      "     |  \n",
      "     |  __repr__(self)\n",
      "     |      Return repr(self).\n",
      "     |  \n",
      "     |  ----------------------------------------------------------------------\n",
      "     |  Data descriptors inherited from _AttributeHolder:\n",
      "     |  \n",
      "     |  __dict__\n",
      "     |      dictionary for instance variables (if defined)\n",
      "     |  \n",
      "     |  __weakref__\n",
      "     |      list of weak references to the object (if defined)\n",
      "    \n",
      "    class FileType(builtins.object)\n",
      "     |  FileType(mode='r', bufsize=-1, encoding=None, errors=None)\n",
      "     |  \n",
      "     |  Factory for creating file object types\n",
      "     |  \n",
      "     |  Instances of FileType are typically passed as type= arguments to the\n",
      "     |  ArgumentParser add_argument() method.\n",
      "     |  \n",
      "     |  Keyword Arguments:\n",
      "     |      - mode -- A string indicating how the file is to be opened. Accepts the\n",
      "     |          same values as the builtin open() function.\n",
      "     |      - bufsize -- The file's desired buffer size. Accepts the same values as\n",
      "     |          the builtin open() function.\n",
      "     |      - encoding -- The file's encoding. Accepts the same values as the\n",
      "     |          builtin open() function.\n",
      "     |      - errors -- A string indicating how encoding and decoding errors are to\n",
      "     |          be handled. Accepts the same value as the builtin open() function.\n",
      "     |  \n",
      "     |  Methods defined here:\n",
      "     |  \n",
      "     |  __call__(self, string)\n",
      "     |      Call self as a function.\n",
      "     |  \n",
      "     |  __init__(self, mode='r', bufsize=-1, encoding=None, errors=None)\n",
      "     |      Initialize self.  See help(type(self)) for accurate signature.\n",
      "     |  \n",
      "     |  __repr__(self)\n",
      "     |      Return repr(self).\n",
      "     |  \n",
      "     |  ----------------------------------------------------------------------\n",
      "     |  Data descriptors defined here:\n",
      "     |  \n",
      "     |  __dict__\n",
      "     |      dictionary for instance variables (if defined)\n",
      "     |  \n",
      "     |  __weakref__\n",
      "     |      list of weak references to the object (if defined)\n",
      "    \n",
      "    class HelpFormatter(builtins.object)\n",
      "     |  HelpFormatter(prog, indent_increment=2, max_help_position=24, width=None)\n",
      "     |  \n",
      "     |  Formatter for generating usage messages and argument help strings.\n",
      "     |  \n",
      "     |  Only the name of this class is considered a public API. All the methods\n",
      "     |  provided by the class are considered an implementation detail.\n",
      "     |  \n",
      "     |  Methods defined here:\n",
      "     |  \n",
      "     |  __init__(self, prog, indent_increment=2, max_help_position=24, width=None)\n",
      "     |      Initialize self.  See help(type(self)) for accurate signature.\n",
      "     |  \n",
      "     |  add_argument(self, action)\n",
      "     |  \n",
      "     |  add_arguments(self, actions)\n",
      "     |  \n",
      "     |  add_text(self, text)\n",
      "     |  \n",
      "     |  add_usage(self, usage, actions, groups, prefix=None)\n",
      "     |  \n",
      "     |  end_section(self)\n",
      "     |  \n",
      "     |  format_help(self)\n",
      "     |      # =======================\n",
      "     |      # Help-formatting methods\n",
      "     |      # =======================\n",
      "     |  \n",
      "     |  start_section(self, heading)\n",
      "     |      # ========================\n",
      "     |      # Message building methods\n",
      "     |      # ========================\n",
      "     |  \n",
      "     |  ----------------------------------------------------------------------\n",
      "     |  Data descriptors defined here:\n",
      "     |  \n",
      "     |  __dict__\n",
      "     |      dictionary for instance variables (if defined)\n",
      "     |  \n",
      "     |  __weakref__\n",
      "     |      list of weak references to the object (if defined)\n",
      "    \n",
      "    class MetavarTypeHelpFormatter(HelpFormatter)\n",
      "     |  MetavarTypeHelpFormatter(prog, indent_increment=2, max_help_position=24, width=None)\n",
      "     |  \n",
      "     |  Help message formatter which uses the argument 'type' as the default\n",
      "     |  metavar value (instead of the argument 'dest')\n",
      "     |  \n",
      "     |  Only the name of this class is considered a public API. All the methods\n",
      "     |  provided by the class are considered an implementation detail.\n",
      "     |  \n",
      "     |  Method resolution order:\n",
      "     |      MetavarTypeHelpFormatter\n",
      "     |      HelpFormatter\n",
      "     |      builtins.object\n",
      "     |  \n",
      "     |  Methods inherited from HelpFormatter:\n",
      "     |  \n",
      "     |  __init__(self, prog, indent_increment=2, max_help_position=24, width=None)\n",
      "     |      Initialize self.  See help(type(self)) for accurate signature.\n",
      "     |  \n",
      "     |  add_argument(self, action)\n",
      "     |  \n",
      "     |  add_arguments(self, actions)\n",
      "     |  \n",
      "     |  add_text(self, text)\n",
      "     |  \n",
      "     |  add_usage(self, usage, actions, groups, prefix=None)\n",
      "     |  \n",
      "     |  end_section(self)\n",
      "     |  \n",
      "     |  format_help(self)\n",
      "     |      # =======================\n",
      "     |      # Help-formatting methods\n",
      "     |      # =======================\n",
      "     |  \n",
      "     |  start_section(self, heading)\n",
      "     |      # ========================\n",
      "     |      # Message building methods\n",
      "     |      # ========================\n",
      "     |  \n",
      "     |  ----------------------------------------------------------------------\n",
      "     |  Data descriptors inherited from HelpFormatter:\n",
      "     |  \n",
      "     |  __dict__\n",
      "     |      dictionary for instance variables (if defined)\n",
      "     |  \n",
      "     |  __weakref__\n",
      "     |      list of weak references to the object (if defined)\n",
      "    \n",
      "    class Namespace(_AttributeHolder)\n",
      "     |  Namespace(**kwargs)\n",
      "     |  \n",
      "     |  Simple object for storing attributes.\n",
      "     |  \n",
      "     |  Implements equality by attribute names and values, and provides a simple\n",
      "     |  string representation.\n",
      "     |  \n",
      "     |  Method resolution order:\n",
      "     |      Namespace\n",
      "     |      _AttributeHolder\n",
      "     |      builtins.object\n",
      "     |  \n",
      "     |  Methods defined here:\n",
      "     |  \n",
      "     |  __contains__(self, key)\n",
      "     |  \n",
      "     |  __eq__(self, other)\n",
      "     |      Return self==value.\n",
      "     |  \n",
      "     |  __init__(self, **kwargs)\n",
      "     |      Initialize self.  See help(type(self)) for accurate signature.\n",
      "     |  \n",
      "     |  ----------------------------------------------------------------------\n",
      "     |  Data and other attributes defined here:\n",
      "     |  \n",
      "     |  __hash__ = None\n",
      "     |  \n",
      "     |  ----------------------------------------------------------------------\n",
      "     |  Methods inherited from _AttributeHolder:\n",
      "     |  \n",
      "     |  __repr__(self)\n",
      "     |      Return repr(self).\n",
      "     |  \n",
      "     |  ----------------------------------------------------------------------\n",
      "     |  Data descriptors inherited from _AttributeHolder:\n",
      "     |  \n",
      "     |  __dict__\n",
      "     |      dictionary for instance variables (if defined)\n",
      "     |  \n",
      "     |  __weakref__\n",
      "     |      list of weak references to the object (if defined)\n",
      "    \n",
      "    class RawDescriptionHelpFormatter(HelpFormatter)\n",
      "     |  RawDescriptionHelpFormatter(prog, indent_increment=2, max_help_position=24, width=None)\n",
      "     |  \n",
      "     |  Help message formatter which retains any formatting in descriptions.\n",
      "     |  \n",
      "     |  Only the name of this class is considered a public API. All the methods\n",
      "     |  provided by the class are considered an implementation detail.\n",
      "     |  \n",
      "     |  Method resolution order:\n",
      "     |      RawDescriptionHelpFormatter\n",
      "     |      HelpFormatter\n",
      "     |      builtins.object\n",
      "     |  \n",
      "     |  Methods inherited from HelpFormatter:\n",
      "     |  \n",
      "     |  __init__(self, prog, indent_increment=2, max_help_position=24, width=None)\n",
      "     |      Initialize self.  See help(type(self)) for accurate signature.\n",
      "     |  \n",
      "     |  add_argument(self, action)\n",
      "     |  \n",
      "     |  add_arguments(self, actions)\n",
      "     |  \n",
      "     |  add_text(self, text)\n",
      "     |  \n",
      "     |  add_usage(self, usage, actions, groups, prefix=None)\n",
      "     |  \n",
      "     |  end_section(self)\n",
      "     |  \n",
      "     |  format_help(self)\n",
      "     |      # =======================\n",
      "     |      # Help-formatting methods\n",
      "     |      # =======================\n",
      "     |  \n",
      "     |  start_section(self, heading)\n",
      "     |      # ========================\n",
      "     |      # Message building methods\n",
      "     |      # ========================\n",
      "     |  \n",
      "     |  ----------------------------------------------------------------------\n",
      "     |  Data descriptors inherited from HelpFormatter:\n",
      "     |  \n",
      "     |  __dict__\n",
      "     |      dictionary for instance variables (if defined)\n",
      "     |  \n",
      "     |  __weakref__\n",
      "     |      list of weak references to the object (if defined)\n",
      "    \n",
      "    class RawTextHelpFormatter(RawDescriptionHelpFormatter)\n",
      "     |  RawTextHelpFormatter(prog, indent_increment=2, max_help_position=24, width=None)\n",
      "     |  \n",
      "     |  Help message formatter which retains formatting of all help text.\n",
      "     |  \n",
      "     |  Only the name of this class is considered a public API. All the methods\n",
      "     |  provided by the class are considered an implementation detail.\n",
      "     |  \n",
      "     |  Method resolution order:\n",
      "     |      RawTextHelpFormatter\n",
      "     |      RawDescriptionHelpFormatter\n",
      "     |      HelpFormatter\n",
      "     |      builtins.object\n",
      "     |  \n",
      "     |  Methods inherited from HelpFormatter:\n",
      "     |  \n",
      "     |  __init__(self, prog, indent_increment=2, max_help_position=24, width=None)\n",
      "     |      Initialize self.  See help(type(self)) for accurate signature.\n",
      "     |  \n",
      "     |  add_argument(self, action)\n",
      "     |  \n",
      "     |  add_arguments(self, actions)\n",
      "     |  \n",
      "     |  add_text(self, text)\n",
      "     |  \n",
      "     |  add_usage(self, usage, actions, groups, prefix=None)\n",
      "     |  \n",
      "     |  end_section(self)\n",
      "     |  \n",
      "     |  format_help(self)\n",
      "     |      # =======================\n",
      "     |      # Help-formatting methods\n",
      "     |      # =======================\n",
      "     |  \n",
      "     |  start_section(self, heading)\n",
      "     |      # ========================\n",
      "     |      # Message building methods\n",
      "     |      # ========================\n",
      "     |  \n",
      "     |  ----------------------------------------------------------------------\n",
      "     |  Data descriptors inherited from HelpFormatter:\n",
      "     |  \n",
      "     |  __dict__\n",
      "     |      dictionary for instance variables (if defined)\n",
      "     |  \n",
      "     |  __weakref__\n",
      "     |      list of weak references to the object (if defined)\n",
      "\n",
      "DATA\n",
      "    ONE_OR_MORE = '+'\n",
      "    OPTIONAL = '?'\n",
      "    PARSER = 'A...'\n",
      "    REMAINDER = '...'\n",
      "    SUPPRESS = '==SUPPRESS=='\n",
      "    ZERO_OR_MORE = '*'\n",
      "    __all__ = ['ArgumentParser', 'ArgumentError', 'ArgumentTypeError', 'Bo...\n",
      "\n",
      "VERSION\n",
      "    1.1\n",
      "\n",
      "FILE\n",
      "    c:\\users\\acer_\\appdata\\local\\programs\\python\\python311\\lib\\argparse.py\n",
      "\n",
      "\n"
     ]
    }
   ],
   "source": [
    "help(argparse)"
   ]
  },
  {
   "cell_type": "code",
   "execution_count": 59,
   "metadata": {},
   "outputs": [],
   "source": [
    "import mod"
   ]
  },
  {
   "cell_type": "code",
   "execution_count": 60,
   "metadata": {},
   "outputs": [],
   "source": [
    "import sys"
   ]
  },
  {
   "cell_type": "code",
   "execution_count": 61,
   "metadata": {},
   "outputs": [
    {
     "data": {
      "text/plain": [
       "['e:\\\\Python\\\\Stupen-Hacktiv8',\n",
       " 'c:\\\\Users\\\\acer_\\\\AppData\\\\Local\\\\Programs\\\\Python\\\\Python311\\\\python311.zip',\n",
       " 'c:\\\\Users\\\\acer_\\\\AppData\\\\Local\\\\Programs\\\\Python\\\\Python311\\\\DLLs',\n",
       " 'c:\\\\Users\\\\acer_\\\\AppData\\\\Local\\\\Programs\\\\Python\\\\Python311\\\\Lib',\n",
       " 'c:\\\\Users\\\\acer_\\\\AppData\\\\Local\\\\Programs\\\\Python\\\\Python311',\n",
       " '',\n",
       " 'C:\\\\Users\\\\acer_\\\\AppData\\\\Roaming\\\\Python\\\\Python311\\\\site-packages',\n",
       " 'C:\\\\Users\\\\acer_\\\\AppData\\\\Roaming\\\\Python\\\\Python311\\\\site-packages\\\\win32',\n",
       " 'C:\\\\Users\\\\acer_\\\\AppData\\\\Roaming\\\\Python\\\\Python311\\\\site-packages\\\\win32\\\\lib',\n",
       " 'C:\\\\Users\\\\acer_\\\\AppData\\\\Roaming\\\\Python\\\\Python311\\\\site-packages\\\\Pythonwin',\n",
       " 'c:\\\\Users\\\\acer_\\\\AppData\\\\Local\\\\Programs\\\\Python\\\\Python311\\\\Lib\\\\site-packages',\n",
       " 'c:\\\\Users\\\\acer_\\\\AppData\\\\Local\\\\Programs\\\\Python\\\\Python311\\\\Lib\\\\site-packages\\\\win32',\n",
       " 'c:\\\\Users\\\\acer_\\\\AppData\\\\Local\\\\Programs\\\\Python\\\\Python311\\\\Lib\\\\site-packages\\\\win32\\\\lib',\n",
       " 'c:\\\\Users\\\\acer_\\\\AppData\\\\Local\\\\Programs\\\\Python\\\\Python311\\\\Lib\\\\site-packages\\\\Pythonwin']"
      ]
     },
     "execution_count": 61,
     "metadata": {},
     "output_type": "execute_result"
    }
   ],
   "source": [
    "sys.path"
   ]
  },
  {
   "cell_type": "markdown",
   "metadata": {},
   "source": [
    "# Import"
   ]
  },
  {
   "cell_type": "code",
   "execution_count": 62,
   "metadata": {},
   "outputs": [],
   "source": [
    "import sys"
   ]
  },
  {
   "cell_type": "code",
   "execution_count": 63,
   "metadata": {},
   "outputs": [],
   "source": [
    "import mod"
   ]
  },
  {
   "cell_type": "code",
   "execution_count": 64,
   "metadata": {},
   "outputs": [
    {
     "data": {
      "text/plain": [
       "'Hacktiv8-PTP Python For Data Science'"
      ]
     },
     "execution_count": 64,
     "metadata": {},
     "output_type": "execute_result"
    }
   ],
   "source": [
    "mod.s"
   ]
  },
  {
   "cell_type": "code",
   "execution_count": 65,
   "metadata": {},
   "outputs": [
    {
     "ename": "NameError",
     "evalue": "name 's' is not defined",
     "output_type": "error",
     "traceback": [
      "\u001b[1;31m---------------------------------------------------------------------------\u001b[0m",
      "\u001b[1;31mNameError\u001b[0m                                 Traceback (most recent call last)",
      "\u001b[1;32me:\\Python\\Stupen-Hacktiv8\\Sesi 03.ipynb Cell 63\u001b[0m line \u001b[0;36m1\n\u001b[1;32m----> <a href='vscode-notebook-cell:/e%3A/Python/Stupen-Hacktiv8/Sesi%2003.ipynb#Y116sZmlsZQ%3D%3D?line=0'>1</a>\u001b[0m s\n",
      "\u001b[1;31mNameError\u001b[0m: name 's' is not defined"
     ]
    }
   ],
   "source": [
    "s"
   ]
  },
  {
   "cell_type": "code",
   "execution_count": 67,
   "metadata": {},
   "outputs": [],
   "source": [
    "from mod import s"
   ]
  },
  {
   "cell_type": "code",
   "execution_count": 69,
   "metadata": {},
   "outputs": [
    {
     "data": {
      "text/plain": [
       "'Hacktiv8-PTP Python For Data Science'"
      ]
     },
     "execution_count": 69,
     "metadata": {},
     "output_type": "execute_result"
    }
   ],
   "source": [
    "s"
   ]
  },
  {
   "cell_type": "code",
   "execution_count": 70,
   "metadata": {},
   "outputs": [],
   "source": [
    "from mod import s, foo"
   ]
  },
  {
   "cell_type": "code",
   "execution_count": 72,
   "metadata": {},
   "outputs": [
    {
     "data": {
      "text/plain": [
       "'Hacktiv8-PTP Python For Data Science'"
      ]
     },
     "execution_count": 72,
     "metadata": {},
     "output_type": "execute_result"
    }
   ],
   "source": [
    "s"
   ]
  },
  {
   "cell_type": "code",
   "execution_count": 74,
   "metadata": {},
   "outputs": [
    {
     "name": "stdout",
     "output_type": "stream",
     "text": [
      "arg = 5\n"
     ]
    }
   ],
   "source": [
    "foo(5)"
   ]
  },
  {
   "cell_type": "code",
   "execution_count": 75,
   "metadata": {},
   "outputs": [
    {
     "ename": "NameError",
     "evalue": "name 'a' is not defined",
     "output_type": "error",
     "traceback": [
      "\u001b[1;31m---------------------------------------------------------------------------\u001b[0m",
      "\u001b[1;31mNameError\u001b[0m                                 Traceback (most recent call last)",
      "\u001b[1;32me:\\Python\\Stupen-Hacktiv8\\Sesi 03.ipynb Cell 69\u001b[0m line \u001b[0;36m1\n\u001b[1;32m----> <a href='vscode-notebook-cell:/e%3A/Python/Stupen-Hacktiv8/Sesi%2003.ipynb#Y130sZmlsZQ%3D%3D?line=0'>1</a>\u001b[0m a\n",
      "\u001b[1;31mNameError\u001b[0m: name 'a' is not defined"
     ]
    }
   ],
   "source": [
    "a"
   ]
  },
  {
   "cell_type": "code",
   "execution_count": 77,
   "metadata": {},
   "outputs": [],
   "source": [
    "# sebaiknya jangan\n",
    "from mod import *"
   ]
  },
  {
   "cell_type": "code",
   "execution_count": 78,
   "metadata": {},
   "outputs": [],
   "source": [
    "from mod import s, a, foo"
   ]
  },
  {
   "cell_type": "code",
   "execution_count": 79,
   "metadata": {},
   "outputs": [
    {
     "data": {
      "text/plain": [
       "[100, 200, 300]"
      ]
     },
     "execution_count": 79,
     "metadata": {},
     "output_type": "execute_result"
    }
   ],
   "source": [
    "a"
   ]
  },
  {
   "cell_type": "code",
   "execution_count": 81,
   "metadata": {},
   "outputs": [],
   "source": [
    "ac =\"hallo\""
   ]
  },
  {
   "cell_type": "code",
   "execution_count": 82,
   "metadata": {},
   "outputs": [
    {
     "data": {
      "text/plain": [
       "[100, 200, 300]"
      ]
     },
     "execution_count": 82,
     "metadata": {},
     "output_type": "execute_result"
    }
   ],
   "source": [
    "a"
   ]
  },
  {
   "cell_type": "code",
   "execution_count": 84,
   "metadata": {},
   "outputs": [],
   "source": [
    "import mod\n",
    "import mod as modif\n",
    "from mod import s\n",
    "from mod import foo as f"
   ]
  },
  {
   "cell_type": "code",
   "execution_count": 86,
   "metadata": {},
   "outputs": [],
   "source": [
    "from argparse import ArgumentTypeError"
   ]
  },
  {
   "cell_type": "code",
   "execution_count": 87,
   "metadata": {},
   "outputs": [
    {
     "name": "stdout",
     "output_type": "stream",
     "text": [
      "arg = corge\n"
     ]
    }
   ],
   "source": [
    "def bar():\n",
    "    from mod import foo\n",
    "    foo(\"corge\")\n",
    "\n",
    "bar()"
   ]
  },
  {
   "cell_type": "code",
   "execution_count": 88,
   "metadata": {},
   "outputs": [
    {
     "name": "stdout",
     "output_type": "stream",
     "text": [
      "arg = 5\n"
     ]
    }
   ],
   "source": [
    "foo(5)"
   ]
  },
  {
   "cell_type": "code",
   "execution_count": 89,
   "metadata": {},
   "outputs": [
    {
     "data": {
      "text/plain": [
       "['Foo',\n",
       " '__builtins__',\n",
       " '__cached__',\n",
       " '__doc__',\n",
       " '__file__',\n",
       " '__loader__',\n",
       " '__name__',\n",
       " '__package__',\n",
       " '__spec__',\n",
       " 'a',\n",
       " 'foo',\n",
       " 's']"
      ]
     },
     "execution_count": 89,
     "metadata": {},
     "output_type": "execute_result"
    }
   ],
   "source": [
    "dir(mod)"
   ]
  },
  {
   "cell_type": "code",
   "execution_count": 91,
   "metadata": {},
   "outputs": [
    {
     "data": {
      "text/plain": [
       "True"
      ]
     },
     "execution_count": 91,
     "metadata": {},
     "output_type": "execute_result"
    }
   ],
   "source": [
    "s.__contains__(\"o\")"
   ]
  },
  {
   "cell_type": "code",
   "execution_count": 93,
   "metadata": {},
   "outputs": [
    {
     "data": {
      "text/plain": [
       "True"
      ]
     },
     "execution_count": 93,
     "metadata": {},
     "output_type": "execute_result"
    }
   ],
   "source": [
    "\"o\" in s"
   ]
  },
  {
   "cell_type": "code",
   "execution_count": 95,
   "metadata": {},
   "outputs": [
    {
     "ename": "AttributeError",
     "evalue": "type object 'str' has no attribute 'contains'",
     "output_type": "error",
     "traceback": [
      "\u001b[1;31m---------------------------------------------------------------------------\u001b[0m",
      "\u001b[1;31mAttributeError\u001b[0m                            Traceback (most recent call last)",
      "\u001b[1;32me:\\Python\\Stupen-Hacktiv8\\Sesi 03.ipynb Cell 82\u001b[0m line \u001b[0;36m1\n\u001b[1;32m----> <a href='vscode-notebook-cell:/e%3A/Python/Stupen-Hacktiv8/Sesi%2003.ipynb#Y146sZmlsZQ%3D%3D?line=0'>1</a>\u001b[0m \u001b[39mstr\u001b[39;49m\u001b[39m.\u001b[39;49mcontains(s)\n",
      "\u001b[1;31mAttributeError\u001b[0m: type object 'str' has no attribute 'contains'"
     ]
    }
   ],
   "source": [
    "str.contains(s)"
   ]
  },
  {
   "cell_type": "code",
   "execution_count": 98,
   "metadata": {},
   "outputs": [
    {
     "data": {
      "text/plain": [
       "['__add__',\n",
       " '__class__',\n",
       " '__contains__',\n",
       " '__delattr__',\n",
       " '__dir__',\n",
       " '__doc__',\n",
       " '__eq__',\n",
       " '__format__',\n",
       " '__ge__',\n",
       " '__getattribute__',\n",
       " '__getitem__',\n",
       " '__getnewargs__',\n",
       " '__getstate__',\n",
       " '__gt__',\n",
       " '__hash__',\n",
       " '__init__',\n",
       " '__init_subclass__',\n",
       " '__iter__',\n",
       " '__le__',\n",
       " '__len__',\n",
       " '__lt__',\n",
       " '__mod__',\n",
       " '__mul__',\n",
       " '__ne__',\n",
       " '__new__',\n",
       " '__reduce__',\n",
       " '__reduce_ex__',\n",
       " '__repr__',\n",
       " '__rmod__',\n",
       " '__rmul__',\n",
       " '__setattr__',\n",
       " '__sizeof__',\n",
       " '__str__',\n",
       " '__subclasshook__',\n",
       " 'capitalize',\n",
       " 'casefold',\n",
       " 'center',\n",
       " 'count',\n",
       " 'encode',\n",
       " 'endswith',\n",
       " 'expandtabs',\n",
       " 'find',\n",
       " 'format',\n",
       " 'format_map',\n",
       " 'index',\n",
       " 'isalnum',\n",
       " 'isalpha',\n",
       " 'isascii',\n",
       " 'isdecimal',\n",
       " 'isdigit',\n",
       " 'isidentifier',\n",
       " 'islower',\n",
       " 'isnumeric',\n",
       " 'isprintable',\n",
       " 'isspace',\n",
       " 'istitle',\n",
       " 'isupper',\n",
       " 'join',\n",
       " 'ljust',\n",
       " 'lower',\n",
       " 'lstrip',\n",
       " 'maketrans',\n",
       " 'partition',\n",
       " 'removeprefix',\n",
       " 'removesuffix',\n",
       " 'replace',\n",
       " 'rfind',\n",
       " 'rindex',\n",
       " 'rjust',\n",
       " 'rpartition',\n",
       " 'rsplit',\n",
       " 'rstrip',\n",
       " 'split',\n",
       " 'splitlines',\n",
       " 'startswith',\n",
       " 'strip',\n",
       " 'swapcase',\n",
       " 'title',\n",
       " 'translate',\n",
       " 'upper',\n",
       " 'zfill']"
      ]
     },
     "execution_count": 98,
     "metadata": {},
     "output_type": "execute_result"
    }
   ],
   "source": [
    "dir(s)"
   ]
  },
  {
   "cell_type": "code",
   "execution_count": 100,
   "metadata": {},
   "outputs": [],
   "source": [
    "import mod"
   ]
  },
  {
   "cell_type": "code",
   "execution_count": 102,
   "metadata": {},
   "outputs": [
    {
     "data": {
      "text/plain": [
       "['Foo',\n",
       " '__builtins__',\n",
       " '__cached__',\n",
       " '__doc__',\n",
       " '__file__',\n",
       " '__loader__',\n",
       " '__name__',\n",
       " '__package__',\n",
       " '__spec__',\n",
       " 'a',\n",
       " 'foo',\n",
       " 's']"
      ]
     },
     "execution_count": 102,
     "metadata": {},
     "output_type": "execute_result"
    }
   ],
   "source": [
    "dir(mod)"
   ]
  },
  {
   "cell_type": "code",
   "execution_count": 103,
   "metadata": {},
   "outputs": [
    {
     "data": {
      "text/plain": [
       "'Hacktiv8-PTP Python For Data Science'"
      ]
     },
     "execution_count": 103,
     "metadata": {},
     "output_type": "execute_result"
    }
   ],
   "source": [
    "mod.s"
   ]
  }
 ],
 "metadata": {
  "kernelspec": {
   "display_name": ".venv",
   "language": "python",
   "name": "python3"
  },
  "language_info": {
   "codemirror_mode": {
    "name": "ipython",
    "version": 3
   },
   "file_extension": ".py",
   "mimetype": "text/x-python",
   "name": "python",
   "nbconvert_exporter": "python",
   "pygments_lexer": "ipython3",
   "version": "3.11.5"
  },
  "orig_nbformat": 4
 },
 "nbformat": 4,
 "nbformat_minor": 2
}
