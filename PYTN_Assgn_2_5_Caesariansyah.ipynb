{
 "cells": [
  {
   "cell_type": "markdown",
   "metadata": {},
   "source": [
    "### Libraries"
   ]
  },
  {
   "cell_type": "code",
   "execution_count": 128,
   "metadata": {},
   "outputs": [],
   "source": [
    "import numpy as np\n",
    "import pandas as pd\n",
    "import matplotlib.pyplot as plt\n",
    "import seaborn as sns\n",
    "import math\n",
    "import statistics\n",
    "import scipy.stats\n",
    "from statistics import NormalDist\n",
    "from scipy.stats import gaussian_kde\n",
    "from scipy.stats import shapiro,jarque_bera\n",
    "from statsmodels.stats.diagnostic import lilliefors\n",
    "from scipy.stats import shapiro"
   ]
  },
  {
   "cell_type": "markdown",
   "metadata": {},
   "source": [
    "### Data"
   ]
  },
  {
   "cell_type": "markdown",
   "metadata": {},
   "source": [
    "Read the CSV file as nyc_prop"
   ]
  },
  {
   "cell_type": "code",
   "execution_count": 129,
   "metadata": {},
   "outputs": [
    {
     "data": {
      "text/html": [
       "<div>\n",
       "<style scoped>\n",
       "    .dataframe tbody tr th:only-of-type {\n",
       "        vertical-align: middle;\n",
       "    }\n",
       "\n",
       "    .dataframe tbody tr th {\n",
       "        vertical-align: top;\n",
       "    }\n",
       "\n",
       "    .dataframe thead th {\n",
       "        text-align: right;\n",
       "    }\n",
       "</style>\n",
       "<table border=\"1\" class=\"dataframe\">\n",
       "  <thead>\n",
       "    <tr style=\"text-align: right;\">\n",
       "      <th></th>\n",
       "      <th>Unnamed: 0</th>\n",
       "      <th>BOROUGH</th>\n",
       "      <th>NEIGHBORHOOD</th>\n",
       "      <th>BUILDING CLASS CATEGORY</th>\n",
       "      <th>TAX CLASS AT PRESENT</th>\n",
       "      <th>BLOCK</th>\n",
       "      <th>LOT</th>\n",
       "      <th>EASE-MENT</th>\n",
       "      <th>BUILDING CLASS AT PRESENT</th>\n",
       "      <th>ADDRESS</th>\n",
       "      <th>...</th>\n",
       "      <th>RESIDENTIAL UNITS</th>\n",
       "      <th>COMMERCIAL UNITS</th>\n",
       "      <th>TOTAL UNITS</th>\n",
       "      <th>LAND SQUARE FEET</th>\n",
       "      <th>GROSS SQUARE FEET</th>\n",
       "      <th>YEAR BUILT</th>\n",
       "      <th>TAX CLASS AT TIME OF SALE</th>\n",
       "      <th>BUILDING CLASS AT TIME OF SALE</th>\n",
       "      <th>SALE PRICE</th>\n",
       "      <th>SALE DATE</th>\n",
       "    </tr>\n",
       "  </thead>\n",
       "  <tbody>\n",
       "    <tr>\n",
       "      <th>0</th>\n",
       "      <td>4</td>\n",
       "      <td>1</td>\n",
       "      <td>ALPHABET CITY</td>\n",
       "      <td>07 RENTALS - WALKUP APARTMENTS</td>\n",
       "      <td>2A</td>\n",
       "      <td>392</td>\n",
       "      <td>6</td>\n",
       "      <td></td>\n",
       "      <td>C2</td>\n",
       "      <td>153 AVENUE B</td>\n",
       "      <td>...</td>\n",
       "      <td>5</td>\n",
       "      <td>0</td>\n",
       "      <td>5</td>\n",
       "      <td>1633</td>\n",
       "      <td>6440</td>\n",
       "      <td>1900</td>\n",
       "      <td>2</td>\n",
       "      <td>C2</td>\n",
       "      <td>6625000</td>\n",
       "      <td>2017-07-19 00:00:00</td>\n",
       "    </tr>\n",
       "    <tr>\n",
       "      <th>1</th>\n",
       "      <td>5</td>\n",
       "      <td>1</td>\n",
       "      <td>ALPHABET CITY</td>\n",
       "      <td>07 RENTALS - WALKUP APARTMENTS</td>\n",
       "      <td>2</td>\n",
       "      <td>399</td>\n",
       "      <td>26</td>\n",
       "      <td></td>\n",
       "      <td>C7</td>\n",
       "      <td>234 EAST 4TH   STREET</td>\n",
       "      <td>...</td>\n",
       "      <td>28</td>\n",
       "      <td>3</td>\n",
       "      <td>31</td>\n",
       "      <td>4616</td>\n",
       "      <td>18690</td>\n",
       "      <td>1900</td>\n",
       "      <td>2</td>\n",
       "      <td>C7</td>\n",
       "      <td>-</td>\n",
       "      <td>2016-12-14 00:00:00</td>\n",
       "    </tr>\n",
       "    <tr>\n",
       "      <th>2</th>\n",
       "      <td>6</td>\n",
       "      <td>1</td>\n",
       "      <td>ALPHABET CITY</td>\n",
       "      <td>07 RENTALS - WALKUP APARTMENTS</td>\n",
       "      <td>2</td>\n",
       "      <td>399</td>\n",
       "      <td>39</td>\n",
       "      <td></td>\n",
       "      <td>C7</td>\n",
       "      <td>197 EAST 3RD   STREET</td>\n",
       "      <td>...</td>\n",
       "      <td>16</td>\n",
       "      <td>1</td>\n",
       "      <td>17</td>\n",
       "      <td>2212</td>\n",
       "      <td>7803</td>\n",
       "      <td>1900</td>\n",
       "      <td>2</td>\n",
       "      <td>C7</td>\n",
       "      <td>-</td>\n",
       "      <td>2016-12-09 00:00:00</td>\n",
       "    </tr>\n",
       "    <tr>\n",
       "      <th>3</th>\n",
       "      <td>7</td>\n",
       "      <td>1</td>\n",
       "      <td>ALPHABET CITY</td>\n",
       "      <td>07 RENTALS - WALKUP APARTMENTS</td>\n",
       "      <td>2B</td>\n",
       "      <td>402</td>\n",
       "      <td>21</td>\n",
       "      <td></td>\n",
       "      <td>C4</td>\n",
       "      <td>154 EAST 7TH STREET</td>\n",
       "      <td>...</td>\n",
       "      <td>10</td>\n",
       "      <td>0</td>\n",
       "      <td>10</td>\n",
       "      <td>2272</td>\n",
       "      <td>6794</td>\n",
       "      <td>1913</td>\n",
       "      <td>2</td>\n",
       "      <td>C4</td>\n",
       "      <td>3936272</td>\n",
       "      <td>2016-09-23 00:00:00</td>\n",
       "    </tr>\n",
       "    <tr>\n",
       "      <th>4</th>\n",
       "      <td>8</td>\n",
       "      <td>1</td>\n",
       "      <td>ALPHABET CITY</td>\n",
       "      <td>07 RENTALS - WALKUP APARTMENTS</td>\n",
       "      <td>2A</td>\n",
       "      <td>404</td>\n",
       "      <td>55</td>\n",
       "      <td></td>\n",
       "      <td>C2</td>\n",
       "      <td>301 EAST 10TH   STREET</td>\n",
       "      <td>...</td>\n",
       "      <td>6</td>\n",
       "      <td>0</td>\n",
       "      <td>6</td>\n",
       "      <td>2369</td>\n",
       "      <td>4615</td>\n",
       "      <td>1900</td>\n",
       "      <td>2</td>\n",
       "      <td>C2</td>\n",
       "      <td>8000000</td>\n",
       "      <td>2016-11-17 00:00:00</td>\n",
       "    </tr>\n",
       "  </tbody>\n",
       "</table>\n",
       "<p>5 rows × 22 columns</p>\n",
       "</div>"
      ],
      "text/plain": [
       "   Unnamed: 0  BOROUGH   NEIGHBORHOOD  \\\n",
       "0           4        1  ALPHABET CITY   \n",
       "1           5        1  ALPHABET CITY   \n",
       "2           6        1  ALPHABET CITY   \n",
       "3           7        1  ALPHABET CITY   \n",
       "4           8        1  ALPHABET CITY   \n",
       "\n",
       "                       BUILDING CLASS CATEGORY TAX CLASS AT PRESENT  BLOCK  \\\n",
       "0  07 RENTALS - WALKUP APARTMENTS                                2A    392   \n",
       "1  07 RENTALS - WALKUP APARTMENTS                                 2    399   \n",
       "2  07 RENTALS - WALKUP APARTMENTS                                 2    399   \n",
       "3  07 RENTALS - WALKUP APARTMENTS                                2B    402   \n",
       "4  07 RENTALS - WALKUP APARTMENTS                                2A    404   \n",
       "\n",
       "   LOT EASE-MENT BUILDING CLASS AT PRESENT                 ADDRESS  ...  \\\n",
       "0    6                                  C2            153 AVENUE B  ...   \n",
       "1   26                                  C7   234 EAST 4TH   STREET  ...   \n",
       "2   39                                  C7   197 EAST 3RD   STREET  ...   \n",
       "3   21                                  C4     154 EAST 7TH STREET  ...   \n",
       "4   55                                  C2  301 EAST 10TH   STREET  ...   \n",
       "\n",
       "  RESIDENTIAL UNITS  COMMERCIAL UNITS  TOTAL UNITS  LAND SQUARE FEET  \\\n",
       "0                 5                 0            5              1633   \n",
       "1                28                 3           31              4616   \n",
       "2                16                 1           17              2212   \n",
       "3                10                 0           10              2272   \n",
       "4                 6                 0            6              2369   \n",
       "\n",
       "   GROSS SQUARE FEET YEAR BUILT TAX CLASS AT TIME OF SALE  \\\n",
       "0               6440       1900                         2   \n",
       "1              18690       1900                         2   \n",
       "2               7803       1900                         2   \n",
       "3               6794       1913                         2   \n",
       "4               4615       1900                         2   \n",
       "\n",
       "   BUILDING CLASS AT TIME OF SALE  SALE PRICE            SALE DATE  \n",
       "0                              C2     6625000  2017-07-19 00:00:00  \n",
       "1                              C7         -    2016-12-14 00:00:00  \n",
       "2                              C7         -    2016-12-09 00:00:00  \n",
       "3                              C4     3936272  2016-09-23 00:00:00  \n",
       "4                              C2     8000000  2016-11-17 00:00:00  \n",
       "\n",
       "[5 rows x 22 columns]"
      ]
     },
     "execution_count": 129,
     "metadata": {},
     "output_type": "execute_result"
    }
   ],
   "source": [
    "nyc_prop = pd.read_csv(\"E:/Python/Stupen-Hacktiv8/nyc-rolling-sales.csv\")\n",
    "nyc_prop.head()"
   ]
  },
  {
   "cell_type": "markdown",
   "metadata": {},
   "source": [
    "### Cleaning Data\n",
    "Make a copy of the original data first by defining it as *df*, so the original data is not corrupt"
   ]
  },
  {
   "cell_type": "code",
   "execution_count": 130,
   "metadata": {},
   "outputs": [],
   "source": [
    "df = nyc_prop.copy()"
   ]
  },
  {
   "cell_type": "markdown",
   "metadata": {},
   "source": [
    "Remove irrelevant columns, lower the columns' names, and also replace the blankspace with underscores."
   ]
  },
  {
   "cell_type": "code",
   "execution_count": 131,
   "metadata": {},
   "outputs": [
    {
     "name": "stdout",
     "output_type": "stream",
     "text": [
      "<class 'pandas.core.frame.DataFrame'>\n",
      "RangeIndex: 84548 entries, 0 to 84547\n",
      "Data columns (total 21 columns):\n",
      " #   Column                          Non-Null Count  Dtype \n",
      "---  ------                          --------------  ----- \n",
      " 0   borough                         84548 non-null  int64 \n",
      " 1   neighborhood                    84548 non-null  object\n",
      " 2   building_class_category         84548 non-null  object\n",
      " 3   tax_class_at_present            84548 non-null  object\n",
      " 4   block                           84548 non-null  int64 \n",
      " 5   lot                             84548 non-null  int64 \n",
      " 6   ease-ment                       84548 non-null  object\n",
      " 7   building_class_at_present       84548 non-null  object\n",
      " 8   address                         84548 non-null  object\n",
      " 9   apartment_number                84548 non-null  object\n",
      " 10  zip_code                        84548 non-null  int64 \n",
      " 11  residential_units               84548 non-null  int64 \n",
      " 12  commercial_units                84548 non-null  int64 \n",
      " 13  total_units                     84548 non-null  int64 \n",
      " 14  land_square_feet                84548 non-null  object\n",
      " 15  gross_square_feet               84548 non-null  object\n",
      " 16  year_built                      84548 non-null  int64 \n",
      " 17  tax_class_at_time_of_sale       84548 non-null  int64 \n",
      " 18  building_class_at_time_of_sale  84548 non-null  object\n",
      " 19  sale_price                      84548 non-null  object\n",
      " 20  sale_date                       84548 non-null  object\n",
      "dtypes: int64(9), object(12)\n",
      "memory usage: 13.5+ MB\n"
     ]
    }
   ],
   "source": [
    "df=df.drop([\"Unnamed: 0\"],axis=1)\n",
    "df.columns = (df.columns.str.lower()).str.replace(\" \",\"_\")\n",
    "df.info()"
   ]
  },
  {
   "cell_type": "markdown",
   "metadata": {},
   "source": [
    "Convert all to numeric variables by defining *num*"
   ]
  },
  {
   "cell_type": "code",
   "execution_count": 132,
   "metadata": {},
   "outputs": [],
   "source": [
    "num = [\"residential_units\",\"commercial_units\",\"total_units\",\"land_square_feet\",\"gross_square_feet\",\"year_built\",\"sale_price\"]\n",
    "for col in num: \n",
    "    df[col] = pd.to_numeric(df[col], errors='coerce')"
   ]
  },
  {
   "cell_type": "markdown",
   "metadata": {},
   "source": [
    "Convert all to categorical variables and change them to object"
   ]
  },
  {
   "cell_type": "code",
   "execution_count": 133,
   "metadata": {},
   "outputs": [],
   "source": [
    "cat_columns = []\n",
    "for col in df.columns[:-1]:\n",
    "    if col not in num:\n",
    "        cat_columns.append(col)\n",
    "        \n",
    "for col in cat_columns:\n",
    "    df[col] = df[col].astype(\"object\")"
   ]
  },
  {
   "cell_type": "markdown",
   "metadata": {},
   "source": [
    "Change *sale_datetime* to datetime"
   ]
  },
  {
   "cell_type": "code",
   "execution_count": 134,
   "metadata": {},
   "outputs": [],
   "source": [
    "df[\"sale_date\"] = pd.to_datetime(df[\"sale_date\"])"
   ]
  },
  {
   "cell_type": "markdown",
   "metadata": {},
   "source": [
    "According to the data, each borough would be renamed and represented by number :\n",
    "- 1 = Manhattam\n",
    "- 2 = Bronx\n",
    "- 3 = Brooklyn\n",
    "- 4 = Queens\n",
    "- 5 = Staten Island"
   ]
  },
  {
   "cell_type": "code",
   "execution_count": 135,
   "metadata": {},
   "outputs": [
    {
     "data": {
      "text/html": [
       "<div>\n",
       "<style scoped>\n",
       "    .dataframe tbody tr th:only-of-type {\n",
       "        vertical-align: middle;\n",
       "    }\n",
       "\n",
       "    .dataframe tbody tr th {\n",
       "        vertical-align: top;\n",
       "    }\n",
       "\n",
       "    .dataframe thead th {\n",
       "        text-align: right;\n",
       "    }\n",
       "</style>\n",
       "<table border=\"1\" class=\"dataframe\">\n",
       "  <thead>\n",
       "    <tr style=\"text-align: right;\">\n",
       "      <th></th>\n",
       "      <th>borough</th>\n",
       "      <th>neighborhood</th>\n",
       "      <th>building_class_category</th>\n",
       "      <th>tax_class_at_present</th>\n",
       "      <th>block</th>\n",
       "      <th>lot</th>\n",
       "      <th>ease-ment</th>\n",
       "      <th>building_class_at_present</th>\n",
       "      <th>address</th>\n",
       "      <th>apartment_number</th>\n",
       "      <th>...</th>\n",
       "      <th>residential_units</th>\n",
       "      <th>commercial_units</th>\n",
       "      <th>total_units</th>\n",
       "      <th>land_square_feet</th>\n",
       "      <th>gross_square_feet</th>\n",
       "      <th>year_built</th>\n",
       "      <th>tax_class_at_time_of_sale</th>\n",
       "      <th>building_class_at_time_of_sale</th>\n",
       "      <th>sale_price</th>\n",
       "      <th>sale_date</th>\n",
       "    </tr>\n",
       "  </thead>\n",
       "  <tbody>\n",
       "    <tr>\n",
       "      <th>0</th>\n",
       "      <td>Manhattan</td>\n",
       "      <td>ALPHABET CITY</td>\n",
       "      <td>07 RENTALS - WALKUP APARTMENTS</td>\n",
       "      <td>2A</td>\n",
       "      <td>392</td>\n",
       "      <td>6</td>\n",
       "      <td></td>\n",
       "      <td>C2</td>\n",
       "      <td>153 AVENUE B</td>\n",
       "      <td></td>\n",
       "      <td>...</td>\n",
       "      <td>5</td>\n",
       "      <td>0</td>\n",
       "      <td>5</td>\n",
       "      <td>1633.0</td>\n",
       "      <td>6440.0</td>\n",
       "      <td>1900</td>\n",
       "      <td>2</td>\n",
       "      <td>C2</td>\n",
       "      <td>6625000.0</td>\n",
       "      <td>2017-07-19</td>\n",
       "    </tr>\n",
       "    <tr>\n",
       "      <th>1</th>\n",
       "      <td>Manhattan</td>\n",
       "      <td>ALPHABET CITY</td>\n",
       "      <td>07 RENTALS - WALKUP APARTMENTS</td>\n",
       "      <td>2</td>\n",
       "      <td>399</td>\n",
       "      <td>26</td>\n",
       "      <td></td>\n",
       "      <td>C7</td>\n",
       "      <td>234 EAST 4TH   STREET</td>\n",
       "      <td></td>\n",
       "      <td>...</td>\n",
       "      <td>28</td>\n",
       "      <td>3</td>\n",
       "      <td>31</td>\n",
       "      <td>4616.0</td>\n",
       "      <td>18690.0</td>\n",
       "      <td>1900</td>\n",
       "      <td>2</td>\n",
       "      <td>C7</td>\n",
       "      <td>NaN</td>\n",
       "      <td>2016-12-14</td>\n",
       "    </tr>\n",
       "    <tr>\n",
       "      <th>2</th>\n",
       "      <td>Manhattan</td>\n",
       "      <td>ALPHABET CITY</td>\n",
       "      <td>07 RENTALS - WALKUP APARTMENTS</td>\n",
       "      <td>2</td>\n",
       "      <td>399</td>\n",
       "      <td>39</td>\n",
       "      <td></td>\n",
       "      <td>C7</td>\n",
       "      <td>197 EAST 3RD   STREET</td>\n",
       "      <td></td>\n",
       "      <td>...</td>\n",
       "      <td>16</td>\n",
       "      <td>1</td>\n",
       "      <td>17</td>\n",
       "      <td>2212.0</td>\n",
       "      <td>7803.0</td>\n",
       "      <td>1900</td>\n",
       "      <td>2</td>\n",
       "      <td>C7</td>\n",
       "      <td>NaN</td>\n",
       "      <td>2016-12-09</td>\n",
       "    </tr>\n",
       "    <tr>\n",
       "      <th>3</th>\n",
       "      <td>Manhattan</td>\n",
       "      <td>ALPHABET CITY</td>\n",
       "      <td>07 RENTALS - WALKUP APARTMENTS</td>\n",
       "      <td>2B</td>\n",
       "      <td>402</td>\n",
       "      <td>21</td>\n",
       "      <td></td>\n",
       "      <td>C4</td>\n",
       "      <td>154 EAST 7TH STREET</td>\n",
       "      <td></td>\n",
       "      <td>...</td>\n",
       "      <td>10</td>\n",
       "      <td>0</td>\n",
       "      <td>10</td>\n",
       "      <td>2272.0</td>\n",
       "      <td>6794.0</td>\n",
       "      <td>1913</td>\n",
       "      <td>2</td>\n",
       "      <td>C4</td>\n",
       "      <td>3936272.0</td>\n",
       "      <td>2016-09-23</td>\n",
       "    </tr>\n",
       "    <tr>\n",
       "      <th>4</th>\n",
       "      <td>Manhattan</td>\n",
       "      <td>ALPHABET CITY</td>\n",
       "      <td>07 RENTALS - WALKUP APARTMENTS</td>\n",
       "      <td>2A</td>\n",
       "      <td>404</td>\n",
       "      <td>55</td>\n",
       "      <td></td>\n",
       "      <td>C2</td>\n",
       "      <td>301 EAST 10TH   STREET</td>\n",
       "      <td></td>\n",
       "      <td>...</td>\n",
       "      <td>6</td>\n",
       "      <td>0</td>\n",
       "      <td>6</td>\n",
       "      <td>2369.0</td>\n",
       "      <td>4615.0</td>\n",
       "      <td>1900</td>\n",
       "      <td>2</td>\n",
       "      <td>C2</td>\n",
       "      <td>8000000.0</td>\n",
       "      <td>2016-11-17</td>\n",
       "    </tr>\n",
       "  </tbody>\n",
       "</table>\n",
       "<p>5 rows × 21 columns</p>\n",
       "</div>"
      ],
      "text/plain": [
       "     borough   neighborhood                      building_class_category  \\\n",
       "0  Manhattan  ALPHABET CITY  07 RENTALS - WALKUP APARTMENTS                \n",
       "1  Manhattan  ALPHABET CITY  07 RENTALS - WALKUP APARTMENTS                \n",
       "2  Manhattan  ALPHABET CITY  07 RENTALS - WALKUP APARTMENTS                \n",
       "3  Manhattan  ALPHABET CITY  07 RENTALS - WALKUP APARTMENTS                \n",
       "4  Manhattan  ALPHABET CITY  07 RENTALS - WALKUP APARTMENTS                \n",
       "\n",
       "  tax_class_at_present block lot ease-ment building_class_at_present  \\\n",
       "0                   2A   392   6                                  C2   \n",
       "1                    2   399  26                                  C7   \n",
       "2                    2   399  39                                  C7   \n",
       "3                   2B   402  21                                  C4   \n",
       "4                   2A   404  55                                  C2   \n",
       "\n",
       "                  address apartment_number  ... residential_units  \\\n",
       "0            153 AVENUE B                   ...                 5   \n",
       "1   234 EAST 4TH   STREET                   ...                28   \n",
       "2   197 EAST 3RD   STREET                   ...                16   \n",
       "3     154 EAST 7TH STREET                   ...                10   \n",
       "4  301 EAST 10TH   STREET                   ...                 6   \n",
       "\n",
       "   commercial_units  total_units  land_square_feet  gross_square_feet  \\\n",
       "0                 0            5            1633.0             6440.0   \n",
       "1                 3           31            4616.0            18690.0   \n",
       "2                 1           17            2212.0             7803.0   \n",
       "3                 0           10            2272.0             6794.0   \n",
       "4                 0            6            2369.0             4615.0   \n",
       "\n",
       "   year_built  tax_class_at_time_of_sale building_class_at_time_of_sale  \\\n",
       "0        1900                          2                             C2   \n",
       "1        1900                          2                             C7   \n",
       "2        1900                          2                             C7   \n",
       "3        1913                          2                             C4   \n",
       "4        1900                          2                             C2   \n",
       "\n",
       "  sale_price  sale_date  \n",
       "0  6625000.0 2017-07-19  \n",
       "1        NaN 2016-12-14  \n",
       "2        NaN 2016-12-09  \n",
       "3  3936272.0 2016-09-23  \n",
       "4  8000000.0 2016-11-17  \n",
       "\n",
       "[5 rows x 21 columns]"
      ]
     },
     "execution_count": 135,
     "metadata": {},
     "output_type": "execute_result"
    }
   ],
   "source": [
    "def renaming_borough(x):\n",
    "    if x == 1:\n",
    "        return \"Manhattan\"\n",
    "    elif x == 2:\n",
    "        return \"Bronx\"\n",
    "    elif x == 3:\n",
    "        return \"Brooklyn\"\n",
    "    elif x == 4:\n",
    "        return \"Queens\"\n",
    "    else:\n",
    "        return \"Staten Island\"\n",
    "    \n",
    "df[\"borough\"] = df[\"borough\"].apply(renaming_borough)\n",
    "df.head()"
   ]
  },
  {
   "cell_type": "markdown",
   "metadata": {},
   "source": [
    "Replace blankspace with NaN, then count the percentage of missing values."
   ]
  },
  {
   "cell_type": "code",
   "execution_count": 136,
   "metadata": {},
   "outputs": [
    {
     "data": {
      "text/plain": [
       "borough                             0.000000\n",
       "neighborhood                        0.000000\n",
       "building_class_category             0.000000\n",
       "tax_class_at_present                0.872877\n",
       "block                               0.000000\n",
       "lot                                 0.000000\n",
       "ease-ment                         100.000000\n",
       "building_class_at_present           0.872877\n",
       "address                             0.000000\n",
       "apartment_number                   77.466055\n",
       "zip_code                            0.000000\n",
       "residential_units                   0.000000\n",
       "commercial_units                    0.000000\n",
       "total_units                         0.000000\n",
       "land_square_feet                   31.049818\n",
       "gross_square_feet                  32.658372\n",
       "year_built                          0.000000\n",
       "tax_class_at_time_of_sale           0.000000\n",
       "building_class_at_time_of_sale      0.000000\n",
       "sale_price                         17.222170\n",
       "sale_date                           0.000000\n",
       "dtype: float64"
      ]
     },
     "execution_count": 136,
     "metadata": {},
     "output_type": "execute_result"
    }
   ],
   "source": [
    "df.replace(' ',np.nan, inplace=True)\n",
    "df.isna().sum() /len(df) *100"
   ]
  },
  {
   "cell_type": "markdown",
   "metadata": {},
   "source": [
    "Count the missing values"
   ]
  },
  {
   "cell_type": "code",
   "execution_count": 137,
   "metadata": {},
   "outputs": [
    {
     "data": {
      "text/plain": [
       "borough                               0\n",
       "neighborhood                          0\n",
       "building_class_category               0\n",
       "tax_class_at_present                738\n",
       "block                                 0\n",
       "lot                                   0\n",
       "ease-ment                         84548\n",
       "building_class_at_present           738\n",
       "address                               0\n",
       "apartment_number                  65496\n",
       "zip_code                              0\n",
       "residential_units                     0\n",
       "commercial_units                      0\n",
       "total_units                           0\n",
       "land_square_feet                  26252\n",
       "gross_square_feet                 27612\n",
       "year_built                            0\n",
       "tax_class_at_time_of_sale             0\n",
       "building_class_at_time_of_sale        0\n",
       "sale_price                        14561\n",
       "sale_date                             0\n",
       "dtype: int64"
      ]
     },
     "execution_count": 137,
     "metadata": {},
     "output_type": "execute_result"
    }
   ],
   "source": [
    "df.isna().sum()"
   ]
  },
  {
   "cell_type": "markdown",
   "metadata": {},
   "source": [
    "Drop irrelevant columns"
   ]
  },
  {
   "cell_type": "code",
   "execution_count": 138,
   "metadata": {},
   "outputs": [],
   "source": [
    "df = df.drop([\"ease-ment\",\"apartment_number\", \"block\", \"lot\", \"address\"],axis=1)"
   ]
  },
  {
   "cell_type": "markdown",
   "metadata": {},
   "source": [
    "Drop NaN values from *tax_class_at_present* and *building_class_at_present* columns"
   ]
  },
  {
   "cell_type": "code",
   "execution_count": 139,
   "metadata": {},
   "outputs": [],
   "source": [
    "df = df.dropna(subset=[\"tax_class_at_present\",\"building_class_at_present\"])"
   ]
  },
  {
   "cell_type": "markdown",
   "metadata": {},
   "source": [
    "Change NaN values by 0 in *land_square_feet* and *sale_price* columns"
   ]
  },
  {
   "cell_type": "code",
   "execution_count": 140,
   "metadata": {},
   "outputs": [],
   "source": [
    "for i in [\"land_square_feet\",\"gross_square_feet\",\"sale_price\"]:\n",
    "    df[i] = df[i].fillna(0)"
   ]
  },
  {
   "cell_type": "markdown",
   "metadata": {},
   "source": [
    "Take a sale price is greater than 0"
   ]
  },
  {
   "cell_type": "code",
   "execution_count": 141,
   "metadata": {},
   "outputs": [
    {
     "data": {
      "text/html": [
       "<div>\n",
       "<style scoped>\n",
       "    .dataframe tbody tr th:only-of-type {\n",
       "        vertical-align: middle;\n",
       "    }\n",
       "\n",
       "    .dataframe tbody tr th {\n",
       "        vertical-align: top;\n",
       "    }\n",
       "\n",
       "    .dataframe thead th {\n",
       "        text-align: right;\n",
       "    }\n",
       "</style>\n",
       "<table border=\"1\" class=\"dataframe\">\n",
       "  <thead>\n",
       "    <tr style=\"text-align: right;\">\n",
       "      <th></th>\n",
       "      <th>borough</th>\n",
       "      <th>neighborhood</th>\n",
       "      <th>building_class_category</th>\n",
       "      <th>tax_class_at_present</th>\n",
       "      <th>building_class_at_present</th>\n",
       "      <th>zip_code</th>\n",
       "      <th>residential_units</th>\n",
       "      <th>commercial_units</th>\n",
       "      <th>total_units</th>\n",
       "      <th>land_square_feet</th>\n",
       "      <th>gross_square_feet</th>\n",
       "      <th>year_built</th>\n",
       "      <th>tax_class_at_time_of_sale</th>\n",
       "      <th>building_class_at_time_of_sale</th>\n",
       "      <th>sale_price</th>\n",
       "      <th>sale_date</th>\n",
       "    </tr>\n",
       "  </thead>\n",
       "  <tbody>\n",
       "    <tr>\n",
       "      <th>0</th>\n",
       "      <td>Manhattan</td>\n",
       "      <td>ALPHABET CITY</td>\n",
       "      <td>07 RENTALS - WALKUP APARTMENTS</td>\n",
       "      <td>2A</td>\n",
       "      <td>C2</td>\n",
       "      <td>10009</td>\n",
       "      <td>5</td>\n",
       "      <td>0</td>\n",
       "      <td>5</td>\n",
       "      <td>1633.0</td>\n",
       "      <td>6440.0</td>\n",
       "      <td>1900</td>\n",
       "      <td>2</td>\n",
       "      <td>C2</td>\n",
       "      <td>6625000.0</td>\n",
       "      <td>2017-07-19</td>\n",
       "    </tr>\n",
       "    <tr>\n",
       "      <th>3</th>\n",
       "      <td>Manhattan</td>\n",
       "      <td>ALPHABET CITY</td>\n",
       "      <td>07 RENTALS - WALKUP APARTMENTS</td>\n",
       "      <td>2B</td>\n",
       "      <td>C4</td>\n",
       "      <td>10009</td>\n",
       "      <td>10</td>\n",
       "      <td>0</td>\n",
       "      <td>10</td>\n",
       "      <td>2272.0</td>\n",
       "      <td>6794.0</td>\n",
       "      <td>1913</td>\n",
       "      <td>2</td>\n",
       "      <td>C4</td>\n",
       "      <td>3936272.0</td>\n",
       "      <td>2016-09-23</td>\n",
       "    </tr>\n",
       "    <tr>\n",
       "      <th>4</th>\n",
       "      <td>Manhattan</td>\n",
       "      <td>ALPHABET CITY</td>\n",
       "      <td>07 RENTALS - WALKUP APARTMENTS</td>\n",
       "      <td>2A</td>\n",
       "      <td>C2</td>\n",
       "      <td>10009</td>\n",
       "      <td>6</td>\n",
       "      <td>0</td>\n",
       "      <td>6</td>\n",
       "      <td>2369.0</td>\n",
       "      <td>4615.0</td>\n",
       "      <td>1900</td>\n",
       "      <td>2</td>\n",
       "      <td>C2</td>\n",
       "      <td>8000000.0</td>\n",
       "      <td>2016-11-17</td>\n",
       "    </tr>\n",
       "    <tr>\n",
       "      <th>6</th>\n",
       "      <td>Manhattan</td>\n",
       "      <td>ALPHABET CITY</td>\n",
       "      <td>07 RENTALS - WALKUP APARTMENTS</td>\n",
       "      <td>2B</td>\n",
       "      <td>C4</td>\n",
       "      <td>10009</td>\n",
       "      <td>8</td>\n",
       "      <td>0</td>\n",
       "      <td>8</td>\n",
       "      <td>1750.0</td>\n",
       "      <td>4226.0</td>\n",
       "      <td>1920</td>\n",
       "      <td>2</td>\n",
       "      <td>C4</td>\n",
       "      <td>3192840.0</td>\n",
       "      <td>2016-09-23</td>\n",
       "    </tr>\n",
       "    <tr>\n",
       "      <th>9</th>\n",
       "      <td>Manhattan</td>\n",
       "      <td>ALPHABET CITY</td>\n",
       "      <td>08 RENTALS - ELEVATOR APARTMENTS</td>\n",
       "      <td>2</td>\n",
       "      <td>D9</td>\n",
       "      <td>10009</td>\n",
       "      <td>24</td>\n",
       "      <td>0</td>\n",
       "      <td>24</td>\n",
       "      <td>4489.0</td>\n",
       "      <td>18523.0</td>\n",
       "      <td>1920</td>\n",
       "      <td>2</td>\n",
       "      <td>D9</td>\n",
       "      <td>16232000.0</td>\n",
       "      <td>2016-11-07</td>\n",
       "    </tr>\n",
       "    <tr>\n",
       "      <th>...</th>\n",
       "      <td>...</td>\n",
       "      <td>...</td>\n",
       "      <td>...</td>\n",
       "      <td>...</td>\n",
       "      <td>...</td>\n",
       "      <td>...</td>\n",
       "      <td>...</td>\n",
       "      <td>...</td>\n",
       "      <td>...</td>\n",
       "      <td>...</td>\n",
       "      <td>...</td>\n",
       "      <td>...</td>\n",
       "      <td>...</td>\n",
       "      <td>...</td>\n",
       "      <td>...</td>\n",
       "      <td>...</td>\n",
       "    </tr>\n",
       "    <tr>\n",
       "      <th>84543</th>\n",
       "      <td>Staten Island</td>\n",
       "      <td>WOODROW</td>\n",
       "      <td>02 TWO FAMILY DWELLINGS</td>\n",
       "      <td>1</td>\n",
       "      <td>B9</td>\n",
       "      <td>10309</td>\n",
       "      <td>2</td>\n",
       "      <td>0</td>\n",
       "      <td>2</td>\n",
       "      <td>2400.0</td>\n",
       "      <td>2575.0</td>\n",
       "      <td>1998</td>\n",
       "      <td>1</td>\n",
       "      <td>B9</td>\n",
       "      <td>450000.0</td>\n",
       "      <td>2016-11-28</td>\n",
       "    </tr>\n",
       "    <tr>\n",
       "      <th>84544</th>\n",
       "      <td>Staten Island</td>\n",
       "      <td>WOODROW</td>\n",
       "      <td>02 TWO FAMILY DWELLINGS</td>\n",
       "      <td>1</td>\n",
       "      <td>B9</td>\n",
       "      <td>10309</td>\n",
       "      <td>2</td>\n",
       "      <td>0</td>\n",
       "      <td>2</td>\n",
       "      <td>2498.0</td>\n",
       "      <td>2377.0</td>\n",
       "      <td>1998</td>\n",
       "      <td>1</td>\n",
       "      <td>B9</td>\n",
       "      <td>550000.0</td>\n",
       "      <td>2017-04-21</td>\n",
       "    </tr>\n",
       "    <tr>\n",
       "      <th>84545</th>\n",
       "      <td>Staten Island</td>\n",
       "      <td>WOODROW</td>\n",
       "      <td>02 TWO FAMILY DWELLINGS</td>\n",
       "      <td>1</td>\n",
       "      <td>B2</td>\n",
       "      <td>10309</td>\n",
       "      <td>2</td>\n",
       "      <td>0</td>\n",
       "      <td>2</td>\n",
       "      <td>4000.0</td>\n",
       "      <td>1496.0</td>\n",
       "      <td>1925</td>\n",
       "      <td>1</td>\n",
       "      <td>B2</td>\n",
       "      <td>460000.0</td>\n",
       "      <td>2017-07-05</td>\n",
       "    </tr>\n",
       "    <tr>\n",
       "      <th>84546</th>\n",
       "      <td>Staten Island</td>\n",
       "      <td>WOODROW</td>\n",
       "      <td>22 STORE BUILDINGS</td>\n",
       "      <td>4</td>\n",
       "      <td>K6</td>\n",
       "      <td>10309</td>\n",
       "      <td>0</td>\n",
       "      <td>7</td>\n",
       "      <td>7</td>\n",
       "      <td>208033.0</td>\n",
       "      <td>64117.0</td>\n",
       "      <td>2001</td>\n",
       "      <td>4</td>\n",
       "      <td>K6</td>\n",
       "      <td>11693337.0</td>\n",
       "      <td>2016-12-21</td>\n",
       "    </tr>\n",
       "    <tr>\n",
       "      <th>84547</th>\n",
       "      <td>Staten Island</td>\n",
       "      <td>WOODROW</td>\n",
       "      <td>35 INDOOR PUBLIC AND CULTURAL FACILITIES</td>\n",
       "      <td>4</td>\n",
       "      <td>P9</td>\n",
       "      <td>10309</td>\n",
       "      <td>0</td>\n",
       "      <td>1</td>\n",
       "      <td>1</td>\n",
       "      <td>10796.0</td>\n",
       "      <td>2400.0</td>\n",
       "      <td>2006</td>\n",
       "      <td>4</td>\n",
       "      <td>P9</td>\n",
       "      <td>69300.0</td>\n",
       "      <td>2016-10-27</td>\n",
       "    </tr>\n",
       "  </tbody>\n",
       "</table>\n",
       "<p>59166 rows × 16 columns</p>\n",
       "</div>"
      ],
      "text/plain": [
       "             borough   neighborhood  \\\n",
       "0          Manhattan  ALPHABET CITY   \n",
       "3          Manhattan  ALPHABET CITY   \n",
       "4          Manhattan  ALPHABET CITY   \n",
       "6          Manhattan  ALPHABET CITY   \n",
       "9          Manhattan  ALPHABET CITY   \n",
       "...              ...            ...   \n",
       "84543  Staten Island        WOODROW   \n",
       "84544  Staten Island        WOODROW   \n",
       "84545  Staten Island        WOODROW   \n",
       "84546  Staten Island        WOODROW   \n",
       "84547  Staten Island        WOODROW   \n",
       "\n",
       "                           building_class_category tax_class_at_present  \\\n",
       "0      07 RENTALS - WALKUP APARTMENTS                                2A   \n",
       "3      07 RENTALS - WALKUP APARTMENTS                                2B   \n",
       "4      07 RENTALS - WALKUP APARTMENTS                                2A   \n",
       "6      07 RENTALS - WALKUP APARTMENTS                                2B   \n",
       "9      08 RENTALS - ELEVATOR APARTMENTS                               2   \n",
       "...                                            ...                  ...   \n",
       "84543  02 TWO FAMILY DWELLINGS                                        1   \n",
       "84544  02 TWO FAMILY DWELLINGS                                        1   \n",
       "84545  02 TWO FAMILY DWELLINGS                                        1   \n",
       "84546  22 STORE BUILDINGS                                             4   \n",
       "84547  35 INDOOR PUBLIC AND CULTURAL FACILITIES                       4   \n",
       "\n",
       "      building_class_at_present zip_code  residential_units  commercial_units  \\\n",
       "0                            C2    10009                  5                 0   \n",
       "3                            C4    10009                 10                 0   \n",
       "4                            C2    10009                  6                 0   \n",
       "6                            C4    10009                  8                 0   \n",
       "9                            D9    10009                 24                 0   \n",
       "...                         ...      ...                ...               ...   \n",
       "84543                        B9    10309                  2                 0   \n",
       "84544                        B9    10309                  2                 0   \n",
       "84545                        B2    10309                  2                 0   \n",
       "84546                        K6    10309                  0                 7   \n",
       "84547                        P9    10309                  0                 1   \n",
       "\n",
       "       total_units  land_square_feet  gross_square_feet  year_built  \\\n",
       "0                5            1633.0             6440.0        1900   \n",
       "3               10            2272.0             6794.0        1913   \n",
       "4                6            2369.0             4615.0        1900   \n",
       "6                8            1750.0             4226.0        1920   \n",
       "9               24            4489.0            18523.0        1920   \n",
       "...            ...               ...                ...         ...   \n",
       "84543            2            2400.0             2575.0        1998   \n",
       "84544            2            2498.0             2377.0        1998   \n",
       "84545            2            4000.0             1496.0        1925   \n",
       "84546            7          208033.0            64117.0        2001   \n",
       "84547            1           10796.0             2400.0        2006   \n",
       "\n",
       "      tax_class_at_time_of_sale building_class_at_time_of_sale  sale_price  \\\n",
       "0                             2                             C2   6625000.0   \n",
       "3                             2                             C4   3936272.0   \n",
       "4                             2                             C2   8000000.0   \n",
       "6                             2                             C4   3192840.0   \n",
       "9                             2                             D9  16232000.0   \n",
       "...                         ...                            ...         ...   \n",
       "84543                         1                             B9    450000.0   \n",
       "84544                         1                             B9    550000.0   \n",
       "84545                         1                             B2    460000.0   \n",
       "84546                         4                             K6  11693337.0   \n",
       "84547                         4                             P9     69300.0   \n",
       "\n",
       "       sale_date  \n",
       "0     2017-07-19  \n",
       "3     2016-09-23  \n",
       "4     2016-11-17  \n",
       "6     2016-09-23  \n",
       "9     2016-11-07  \n",
       "...          ...  \n",
       "84543 2016-11-28  \n",
       "84544 2017-04-21  \n",
       "84545 2017-07-05  \n",
       "84546 2016-12-21  \n",
       "84547 2016-10-27  \n",
       "\n",
       "[59166 rows x 16 columns]"
      ]
     },
     "execution_count": 141,
     "metadata": {},
     "output_type": "execute_result"
    }
   ],
   "source": [
    "df = df[df[\"sale_price\"] != 0]\n",
    "df"
   ]
  },
  {
   "cell_type": "markdown",
   "metadata": {},
   "source": [
    "Group all the sub-classess into 4 main classess"
   ]
  },
  {
   "cell_type": "code",
   "execution_count": 142,
   "metadata": {},
   "outputs": [
    {
     "data": {
      "text/html": [
       "<div>\n",
       "<style scoped>\n",
       "    .dataframe tbody tr th:only-of-type {\n",
       "        vertical-align: middle;\n",
       "    }\n",
       "\n",
       "    .dataframe tbody tr th {\n",
       "        vertical-align: top;\n",
       "    }\n",
       "\n",
       "    .dataframe thead th {\n",
       "        text-align: right;\n",
       "    }\n",
       "</style>\n",
       "<table border=\"1\" class=\"dataframe\">\n",
       "  <thead>\n",
       "    <tr style=\"text-align: right;\">\n",
       "      <th></th>\n",
       "      <th>borough</th>\n",
       "      <th>neighborhood</th>\n",
       "      <th>building_class_category</th>\n",
       "      <th>tax_class_at_present</th>\n",
       "      <th>building_class_at_present</th>\n",
       "      <th>zip_code</th>\n",
       "      <th>residential_units</th>\n",
       "      <th>commercial_units</th>\n",
       "      <th>total_units</th>\n",
       "      <th>land_square_feet</th>\n",
       "      <th>gross_square_feet</th>\n",
       "      <th>year_built</th>\n",
       "      <th>tax_class_at_time_of_sale</th>\n",
       "      <th>building_class_at_time_of_sale</th>\n",
       "      <th>sale_price</th>\n",
       "      <th>sale_date</th>\n",
       "    </tr>\n",
       "  </thead>\n",
       "  <tbody>\n",
       "    <tr>\n",
       "      <th>0</th>\n",
       "      <td>Manhattan</td>\n",
       "      <td>ALPHABET CITY</td>\n",
       "      <td>07 RENTALS - WALKUP APARTMENTS</td>\n",
       "      <td>2A</td>\n",
       "      <td>C</td>\n",
       "      <td>10009</td>\n",
       "      <td>5</td>\n",
       "      <td>0</td>\n",
       "      <td>5</td>\n",
       "      <td>1633.0</td>\n",
       "      <td>6440.0</td>\n",
       "      <td>1900</td>\n",
       "      <td>2</td>\n",
       "      <td>C2</td>\n",
       "      <td>6625000.0</td>\n",
       "      <td>2017-07-19</td>\n",
       "    </tr>\n",
       "    <tr>\n",
       "      <th>3</th>\n",
       "      <td>Manhattan</td>\n",
       "      <td>ALPHABET CITY</td>\n",
       "      <td>07 RENTALS - WALKUP APARTMENTS</td>\n",
       "      <td>2B</td>\n",
       "      <td>C</td>\n",
       "      <td>10009</td>\n",
       "      <td>10</td>\n",
       "      <td>0</td>\n",
       "      <td>10</td>\n",
       "      <td>2272.0</td>\n",
       "      <td>6794.0</td>\n",
       "      <td>1913</td>\n",
       "      <td>2</td>\n",
       "      <td>C4</td>\n",
       "      <td>3936272.0</td>\n",
       "      <td>2016-09-23</td>\n",
       "    </tr>\n",
       "    <tr>\n",
       "      <th>4</th>\n",
       "      <td>Manhattan</td>\n",
       "      <td>ALPHABET CITY</td>\n",
       "      <td>07 RENTALS - WALKUP APARTMENTS</td>\n",
       "      <td>2A</td>\n",
       "      <td>C</td>\n",
       "      <td>10009</td>\n",
       "      <td>6</td>\n",
       "      <td>0</td>\n",
       "      <td>6</td>\n",
       "      <td>2369.0</td>\n",
       "      <td>4615.0</td>\n",
       "      <td>1900</td>\n",
       "      <td>2</td>\n",
       "      <td>C2</td>\n",
       "      <td>8000000.0</td>\n",
       "      <td>2016-11-17</td>\n",
       "    </tr>\n",
       "    <tr>\n",
       "      <th>6</th>\n",
       "      <td>Manhattan</td>\n",
       "      <td>ALPHABET CITY</td>\n",
       "      <td>07 RENTALS - WALKUP APARTMENTS</td>\n",
       "      <td>2B</td>\n",
       "      <td>C</td>\n",
       "      <td>10009</td>\n",
       "      <td>8</td>\n",
       "      <td>0</td>\n",
       "      <td>8</td>\n",
       "      <td>1750.0</td>\n",
       "      <td>4226.0</td>\n",
       "      <td>1920</td>\n",
       "      <td>2</td>\n",
       "      <td>C4</td>\n",
       "      <td>3192840.0</td>\n",
       "      <td>2016-09-23</td>\n",
       "    </tr>\n",
       "    <tr>\n",
       "      <th>9</th>\n",
       "      <td>Manhattan</td>\n",
       "      <td>ALPHABET CITY</td>\n",
       "      <td>08 RENTALS - ELEVATOR APARTMENTS</td>\n",
       "      <td>2</td>\n",
       "      <td>D</td>\n",
       "      <td>10009</td>\n",
       "      <td>24</td>\n",
       "      <td>0</td>\n",
       "      <td>24</td>\n",
       "      <td>4489.0</td>\n",
       "      <td>18523.0</td>\n",
       "      <td>1920</td>\n",
       "      <td>2</td>\n",
       "      <td>D9</td>\n",
       "      <td>16232000.0</td>\n",
       "      <td>2016-11-07</td>\n",
       "    </tr>\n",
       "  </tbody>\n",
       "</table>\n",
       "</div>"
      ],
      "text/plain": [
       "     borough   neighborhood                      building_class_category  \\\n",
       "0  Manhattan  ALPHABET CITY  07 RENTALS - WALKUP APARTMENTS                \n",
       "3  Manhattan  ALPHABET CITY  07 RENTALS - WALKUP APARTMENTS                \n",
       "4  Manhattan  ALPHABET CITY  07 RENTALS - WALKUP APARTMENTS                \n",
       "6  Manhattan  ALPHABET CITY  07 RENTALS - WALKUP APARTMENTS                \n",
       "9  Manhattan  ALPHABET CITY  08 RENTALS - ELEVATOR APARTMENTS              \n",
       "\n",
       "  tax_class_at_present building_class_at_present zip_code  residential_units  \\\n",
       "0                   2A                         C    10009                  5   \n",
       "3                   2B                         C    10009                 10   \n",
       "4                   2A                         C    10009                  6   \n",
       "6                   2B                         C    10009                  8   \n",
       "9                    2                         D    10009                 24   \n",
       "\n",
       "   commercial_units  total_units  land_square_feet  gross_square_feet  \\\n",
       "0                 0            5            1633.0             6440.0   \n",
       "3                 0           10            2272.0             6794.0   \n",
       "4                 0            6            2369.0             4615.0   \n",
       "6                 0            8            1750.0             4226.0   \n",
       "9                 0           24            4489.0            18523.0   \n",
       "\n",
       "   year_built tax_class_at_time_of_sale building_class_at_time_of_sale  \\\n",
       "0        1900                         2                             C2   \n",
       "3        1913                         2                             C4   \n",
       "4        1900                         2                             C2   \n",
       "6        1920                         2                             C4   \n",
       "9        1920                         2                             D9   \n",
       "\n",
       "   sale_price  sale_date  \n",
       "0   6625000.0 2017-07-19  \n",
       "3   3936272.0 2016-09-23  \n",
       "4   8000000.0 2016-11-17  \n",
       "6   3192840.0 2016-09-23  \n",
       "9  16232000.0 2016-11-07  "
      ]
     },
     "execution_count": 142,
     "metadata": {},
     "output_type": "execute_result"
    }
   ],
   "source": [
    "df[\"building_class_at_present\"] = df[\"building_class_at_present\"].str[0]\n",
    "df.head()"
   ]
  },
  {
   "cell_type": "markdown",
   "metadata": {},
   "source": [
    "Take the years from *sale_date* column and assign it to a new column called *year*"
   ]
  },
  {
   "cell_type": "code",
   "execution_count": 143,
   "metadata": {},
   "outputs": [],
   "source": [
    "df[\"year\"] = [i.year for i in df[\"sale_date\"]]"
   ]
  },
  {
   "cell_type": "markdown",
   "metadata": {},
   "source": [
    "Check if the dataset still has any NaN values."
   ]
  },
  {
   "cell_type": "code",
   "execution_count": 144,
   "metadata": {},
   "outputs": [
    {
     "data": {
      "text/plain": [
       "0"
      ]
     },
     "execution_count": 144,
     "metadata": {},
     "output_type": "execute_result"
    }
   ],
   "source": [
    "df.isnull().sum().sum()"
   ]
  },
  {
   "cell_type": "markdown",
   "metadata": {},
   "source": [
    "We can use box plot to check if the dataset still has any outliers. Based on the boxplot, we can see that there's a lot of outliers"
   ]
  },
  {
   "cell_type": "code",
   "execution_count": 145,
   "metadata": {},
   "outputs": [
    {
     "name": "stderr",
     "output_type": "stream",
     "text": [
      "c:\\Users\\acer_\\AppData\\Local\\Programs\\Python\\Python311\\Lib\\site-packages\\seaborn\\_oldcore.py:1498: FutureWarning: is_categorical_dtype is deprecated and will be removed in a future version. Use isinstance(dtype, CategoricalDtype) instead\n",
      "  if pd.api.types.is_categorical_dtype(vector):\n"
     ]
    },
    {
     "data": {
      "image/png": "[encoded data removed]",
      "text/plain": [
       "<Figure size 2000x800 with 1 Axes>"
      ]
     },
     "metadata": {},
     "output_type": "display_data"
    }
   ],
   "source": [
    "with sns.axes_style(\"darkgrid\"):\n",
    "    plt.figure(figsize=(10,4),dpi=200)\n",
    "    sns.boxplot(data=df,x=\"sale_price\",color=sns.color_palette(\"Pastel1\")[1])\n",
    "    plt.xlabel(\"Sales Price\")\n",
    "    plt.show()"
   ]
  },
  {
   "cell_type": "markdown",
   "metadata": {},
   "source": [
    "Because the dataset still has any outliers, we should remove outliers with IQR method\n",
    "- Calculate the first and third quartile (Q1 and Q3)\n",
    "- Evaluate the interquartile range where IQR = Q3 - Q1\n",
    "- Estimate the lower limit where the lower limit = Q1 - (1.5 × IQR)\n",
    "- Estimate the upper limit where the upper limit = Q3 + (1.5 × IQR)\n",
    "- Select rows where the sale_price is between the lower and upper limits\n",
    "\n",
    "And define it by *outliers_removed*."
   ]
  },
  {
   "cell_type": "code",
   "execution_count": 146,
   "metadata": {},
   "outputs": [],
   "source": [
    "sale_price_q1 = df[\"sale_price\"].describe().loc[\"25%\"]\n",
    "sale_price_q3 = df[\"sale_price\"].describe().loc[\"75%\"]\n",
    "sale_price_iqr = sale_price_q3 - sale_price_q1\n",
    "\n",
    "sale_price_lower_limit = sale_price_q1 - (1.5 * sale_price_iqr)\n",
    "sale_price_upper_limit = sale_price_q3 + (1.5 * sale_price_iqr)"
   ]
  },
  {
   "cell_type": "code",
   "execution_count": 147,
   "metadata": {},
   "outputs": [
    {
     "data": {
      "text/html": [
       "<div>\n",
       "<style scoped>\n",
       "    .dataframe tbody tr th:only-of-type {\n",
       "        vertical-align: middle;\n",
       "    }\n",
       "\n",
       "    .dataframe tbody tr th {\n",
       "        vertical-align: top;\n",
       "    }\n",
       "\n",
       "    .dataframe thead th {\n",
       "        text-align: right;\n",
       "    }\n",
       "</style>\n",
       "<table border=\"1\" class=\"dataframe\">\n",
       "  <thead>\n",
       "    <tr style=\"text-align: right;\">\n",
       "      <th></th>\n",
       "      <th>borough</th>\n",
       "      <th>neighborhood</th>\n",
       "      <th>building_class_category</th>\n",
       "      <th>tax_class_at_present</th>\n",
       "      <th>building_class_at_present</th>\n",
       "      <th>zip_code</th>\n",
       "      <th>residential_units</th>\n",
       "      <th>commercial_units</th>\n",
       "      <th>total_units</th>\n",
       "      <th>land_square_feet</th>\n",
       "      <th>gross_square_feet</th>\n",
       "      <th>year_built</th>\n",
       "      <th>tax_class_at_time_of_sale</th>\n",
       "      <th>building_class_at_time_of_sale</th>\n",
       "      <th>sale_price</th>\n",
       "      <th>sale_date</th>\n",
       "      <th>year</th>\n",
       "    </tr>\n",
       "  </thead>\n",
       "  <tbody>\n",
       "    <tr>\n",
       "      <th>12</th>\n",
       "      <td>Manhattan</td>\n",
       "      <td>ALPHABET CITY</td>\n",
       "      <td>09 COOPS - WALKUP APARTMENTS</td>\n",
       "      <td>2</td>\n",
       "      <td>C</td>\n",
       "      <td>10009</td>\n",
       "      <td>0</td>\n",
       "      <td>0</td>\n",
       "      <td>0</td>\n",
       "      <td>0.0</td>\n",
       "      <td>0.0</td>\n",
       "      <td>1920</td>\n",
       "      <td>2</td>\n",
       "      <td>C6</td>\n",
       "      <td>1.0</td>\n",
       "      <td>2016-09-06</td>\n",
       "      <td>2016</td>\n",
       "    </tr>\n",
       "    <tr>\n",
       "      <th>13</th>\n",
       "      <td>Manhattan</td>\n",
       "      <td>ALPHABET CITY</td>\n",
       "      <td>09 COOPS - WALKUP APARTMENTS</td>\n",
       "      <td>2</td>\n",
       "      <td>C</td>\n",
       "      <td>10009</td>\n",
       "      <td>0</td>\n",
       "      <td>0</td>\n",
       "      <td>0</td>\n",
       "      <td>0.0</td>\n",
       "      <td>0.0</td>\n",
       "      <td>1920</td>\n",
       "      <td>2</td>\n",
       "      <td>C6</td>\n",
       "      <td>499000.0</td>\n",
       "      <td>2017-03-10</td>\n",
       "      <td>2017</td>\n",
       "    </tr>\n",
       "    <tr>\n",
       "      <th>14</th>\n",
       "      <td>Manhattan</td>\n",
       "      <td>ALPHABET CITY</td>\n",
       "      <td>09 COOPS - WALKUP APARTMENTS</td>\n",
       "      <td>2</td>\n",
       "      <td>C</td>\n",
       "      <td>10009</td>\n",
       "      <td>0</td>\n",
       "      <td>0</td>\n",
       "      <td>0</td>\n",
       "      <td>0.0</td>\n",
       "      <td>0.0</td>\n",
       "      <td>1920</td>\n",
       "      <td>2</td>\n",
       "      <td>C6</td>\n",
       "      <td>10.0</td>\n",
       "      <td>2017-04-28</td>\n",
       "      <td>2017</td>\n",
       "    </tr>\n",
       "    <tr>\n",
       "      <th>15</th>\n",
       "      <td>Manhattan</td>\n",
       "      <td>ALPHABET CITY</td>\n",
       "      <td>09 COOPS - WALKUP APARTMENTS</td>\n",
       "      <td>2</td>\n",
       "      <td>C</td>\n",
       "      <td>10009</td>\n",
       "      <td>0</td>\n",
       "      <td>0</td>\n",
       "      <td>0</td>\n",
       "      <td>0.0</td>\n",
       "      <td>0.0</td>\n",
       "      <td>1920</td>\n",
       "      <td>2</td>\n",
       "      <td>C6</td>\n",
       "      <td>529500.0</td>\n",
       "      <td>2017-06-09</td>\n",
       "      <td>2017</td>\n",
       "    </tr>\n",
       "    <tr>\n",
       "      <th>16</th>\n",
       "      <td>Manhattan</td>\n",
       "      <td>ALPHABET CITY</td>\n",
       "      <td>09 COOPS - WALKUP APARTMENTS</td>\n",
       "      <td>2</td>\n",
       "      <td>C</td>\n",
       "      <td>10009</td>\n",
       "      <td>0</td>\n",
       "      <td>0</td>\n",
       "      <td>0</td>\n",
       "      <td>0.0</td>\n",
       "      <td>0.0</td>\n",
       "      <td>1920</td>\n",
       "      <td>2</td>\n",
       "      <td>C6</td>\n",
       "      <td>423000.0</td>\n",
       "      <td>2017-07-14</td>\n",
       "      <td>2017</td>\n",
       "    </tr>\n",
       "  </tbody>\n",
       "</table>\n",
       "</div>"
      ],
      "text/plain": [
       "      borough   neighborhood                      building_class_category  \\\n",
       "12  Manhattan  ALPHABET CITY  09 COOPS - WALKUP APARTMENTS                  \n",
       "13  Manhattan  ALPHABET CITY  09 COOPS - WALKUP APARTMENTS                  \n",
       "14  Manhattan  ALPHABET CITY  09 COOPS - WALKUP APARTMENTS                  \n",
       "15  Manhattan  ALPHABET CITY  09 COOPS - WALKUP APARTMENTS                  \n",
       "16  Manhattan  ALPHABET CITY  09 COOPS - WALKUP APARTMENTS                  \n",
       "\n",
       "   tax_class_at_present building_class_at_present zip_code  residential_units  \\\n",
       "12                    2                         C    10009                  0   \n",
       "13                    2                         C    10009                  0   \n",
       "14                    2                         C    10009                  0   \n",
       "15                    2                         C    10009                  0   \n",
       "16                    2                         C    10009                  0   \n",
       "\n",
       "    commercial_units  total_units  land_square_feet  gross_square_feet  \\\n",
       "12                 0            0               0.0                0.0   \n",
       "13                 0            0               0.0                0.0   \n",
       "14                 0            0               0.0                0.0   \n",
       "15                 0            0               0.0                0.0   \n",
       "16                 0            0               0.0                0.0   \n",
       "\n",
       "    year_built tax_class_at_time_of_sale building_class_at_time_of_sale  \\\n",
       "12        1920                         2                             C6   \n",
       "13        1920                         2                             C6   \n",
       "14        1920                         2                             C6   \n",
       "15        1920                         2                             C6   \n",
       "16        1920                         2                             C6   \n",
       "\n",
       "    sale_price  sale_date  year  \n",
       "12         1.0 2016-09-06  2016  \n",
       "13    499000.0 2017-03-10  2017  \n",
       "14        10.0 2017-04-28  2017  \n",
       "15    529500.0 2017-06-09  2017  \n",
       "16    423000.0 2017-07-14  2017  "
      ]
     },
     "execution_count": 147,
     "metadata": {},
     "output_type": "execute_result"
    }
   ],
   "source": [
    "outliers_removed = df[(df[\"sale_price\"] >= sale_price_lower_limit) & (df[\"sale_price\"] <= sale_price_upper_limit)]\n",
    "outliers_removed.head()"
   ]
  },
  {
   "cell_type": "markdown",
   "metadata": {},
   "source": [
    "Let's recheck if the dataset still has any outliers. Apparently, there are still some outliers."
   ]
  },
  {
   "cell_type": "code",
   "execution_count": 148,
   "metadata": {},
   "outputs": [
    {
     "name": "stderr",
     "output_type": "stream",
     "text": [
      "c:\\Users\\acer_\\AppData\\Local\\Programs\\Python\\Python311\\Lib\\site-packages\\seaborn\\_oldcore.py:1498: FutureWarning: is_categorical_dtype is deprecated and will be removed in a future version. Use isinstance(dtype, CategoricalDtype) instead\n",
      "  if pd.api.types.is_categorical_dtype(vector):\n"
     ]
    },
    {
     "data": {
      "text/plain": [
       "Text(0.5, 0, 'Sales Price')"
      ]
     },
     "execution_count": 148,
     "metadata": {},
     "output_type": "execute_result"
    },
    {
     "data": {
      "image/png": "[encoded data removed]",
      "text/plain": [
       "<Figure size 2000x800 with 1 Axes>"
      ]
     },
     "metadata": {},
     "output_type": "display_data"
    }
   ],
   "source": [
    "plt.figure(figsize=(10,4),dpi=200)\n",
    "sns.boxplot(data=outliers_removed,x=\"sale_price\", color=sns.color_palette(\"Pastel1\")[1])\n",
    "plt.xlabel(\"Sales Price\")"
   ]
  },
  {
   "cell_type": "markdown",
   "metadata": {},
   "source": [
    "Repeat the step above as much as needed."
   ]
  },
  {
   "cell_type": "code",
   "execution_count": 149,
   "metadata": {},
   "outputs": [],
   "source": [
    "n = 1\n",
    "limit = 2\n",
    "\n",
    "while n <= limit:\n",
    "    sale_price_q1 = outliers_removed[\"sale_price\"].describe().loc[\"25%\"]\n",
    "    sale_price_q3 = outliers_removed[\"sale_price\"].describe().loc[\"75%\"]\n",
    "    sale_price_iqr = sale_price_q3 - sale_price_q1\n",
    "\n",
    "    sale_price_lower_limit = sale_price_q1 - (1.5 * sale_price_iqr)\n",
    "    sale_price_upper_limit = sale_price_q3 + (1.5 * sale_price_iqr)\n",
    "\n",
    "    outliers_removed = outliers_removed[(outliers_removed[\"sale_price\"] >= sale_price_lower_limit) & (outliers_removed[\"sale_price\"] <= sale_price_upper_limit)]\n",
    "    \n",
    "    n += 1"
   ]
  },
  {
   "cell_type": "markdown",
   "metadata": {},
   "source": [
    "Let's recheck if the dataset still has any outliers."
   ]
  },
  {
   "cell_type": "code",
   "execution_count": 150,
   "metadata": {},
   "outputs": [
    {
     "name": "stderr",
     "output_type": "stream",
     "text": [
      "c:\\Users\\acer_\\AppData\\Local\\Programs\\Python\\Python311\\Lib\\site-packages\\seaborn\\_oldcore.py:1498: FutureWarning: is_categorical_dtype is deprecated and will be removed in a future version. Use isinstance(dtype, CategoricalDtype) instead\n",
      "  if pd.api.types.is_categorical_dtype(vector):\n"
     ]
    },
    {
     "data": {
      "text/plain": [
       "Text(0.5, 0, 'Sales Price')"
      ]
     },
     "execution_count": 150,
     "metadata": {},
     "output_type": "execute_result"
    },
    {
     "data": {
      "image/png": "[encoded data removed]",
      "text/plain": [
       "<Figure size 2000x800 with 1 Axes>"
      ]
     },
     "metadata": {},
     "output_type": "display_data"
    }
   ],
   "source": [
    "plt.figure(figsize=(10,4),dpi=200)\n",
    "sns.boxplot(data=outliers_removed,x=\"sale_price\", color=sns.color_palette(\"Pastel1\")[1])\n",
    "plt.xlabel(\"Sales Price\")"
   ]
  },
  {
   "cell_type": "markdown",
   "metadata": {},
   "source": [
    "### Measures of Central Tendency"
   ]
  },
  {
   "cell_type": "markdown",
   "metadata": {},
   "source": [
    "Calculate measures of central tendency by every *borough* and *tax_class_at_present*, such as:\n",
    "\n",
    "- Mean\n",
    "- Median\n",
    "- Mode\n",
    "- Range\n",
    "- Variance\n",
    "- Standard Deviation\n",
    "\n",
    "If there are NaN values, it means that there's only a single value within that *borough* and *tax_class_at_present*, so let's drop all of the NaN values."
   ]
  },
  {
   "cell_type": "code",
   "execution_count": 151,
   "metadata": {},
   "outputs": [
    {
     "name": "stderr",
     "output_type": "stream",
     "text": [
      "C:\\Users\\acer_\\AppData\\Local\\Temp\\ipykernel_812\\2569010846.py:1: FutureWarning: The provided callable <function mean at 0x0000025F709E8A40> is currently using SeriesGroupBy.mean. In a future version of pandas, the provided callable will be used directly. To keep current behavior pass the string \"mean\" instead.\n",
      "  mct = outliers_removed.groupby([\"borough\",\"building_class_at_present\",\"year\"]).agg({\"sale_price\":[np.mean,\n",
      "C:\\Users\\acer_\\AppData\\Local\\Temp\\ipykernel_812\\2569010846.py:1: FutureWarning: The provided callable <function median at 0x0000025F7EB14860> is currently using SeriesGroupBy.median. In a future version of pandas, the provided callable will be used directly. To keep current behavior pass the string \"median\" instead.\n",
      "  mct = outliers_removed.groupby([\"borough\",\"building_class_at_present\",\"year\"]).agg({\"sale_price\":[np.mean,\n",
      "C:\\Users\\acer_\\AppData\\Local\\Temp\\ipykernel_812\\2569010846.py:1: FutureWarning: The provided callable <function var at 0x0000025F709E8CC0> is currently using SeriesGroupBy.var. In a future version of pandas, the provided callable will be used directly. To keep current behavior pass the string \"var\" instead.\n",
      "  mct = outliers_removed.groupby([\"borough\",\"building_class_at_present\",\"year\"]).agg({\"sale_price\":[np.mean,\n",
      "C:\\Users\\acer_\\AppData\\Local\\Temp\\ipykernel_812\\2569010846.py:1: FutureWarning: The provided callable <function std at 0x0000025F709E8B80> is currently using SeriesGroupBy.std. In a future version of pandas, the provided callable will be used directly. To keep current behavior pass the string \"std\" instead.\n",
      "  mct = outliers_removed.groupby([\"borough\",\"building_class_at_present\",\"year\"]).agg({\"sale_price\":[np.mean,\n"
     ]
    },
    {
     "data": {
      "text/html": [
       "<div>\n",
       "<style scoped>\n",
       "    .dataframe tbody tr th:only-of-type {\n",
       "        vertical-align: middle;\n",
       "    }\n",
       "\n",
       "    .dataframe tbody tr th {\n",
       "        vertical-align: top;\n",
       "    }\n",
       "\n",
       "    .dataframe thead th {\n",
       "        text-align: right;\n",
       "    }\n",
       "</style>\n",
       "<table border=\"1\" class=\"dataframe\">\n",
       "  <thead>\n",
       "    <tr style=\"text-align: right;\">\n",
       "      <th></th>\n",
       "      <th>borough</th>\n",
       "      <th>building_class_at_present</th>\n",
       "      <th>year</th>\n",
       "      <th>mean</th>\n",
       "      <th>median</th>\n",
       "      <th>mode</th>\n",
       "      <th>range</th>\n",
       "      <th>variance</th>\n",
       "      <th>standard_deviation</th>\n",
       "    </tr>\n",
       "  </thead>\n",
       "  <tbody>\n",
       "    <tr>\n",
       "      <th>0</th>\n",
       "      <td>Bronx</td>\n",
       "      <td>A</td>\n",
       "      <td>2016</td>\n",
       "      <td>396286.338843</td>\n",
       "      <td>390000.0</td>\n",
       "      <td>400000.0</td>\n",
       "      <td>1449999.0</td>\n",
       "      <td>3.171911e+10</td>\n",
       "      <td>178098.583630</td>\n",
       "    </tr>\n",
       "    <tr>\n",
       "      <th>1</th>\n",
       "      <td>Bronx</td>\n",
       "      <td>A</td>\n",
       "      <td>2017</td>\n",
       "      <td>404989.838760</td>\n",
       "      <td>402500.0</td>\n",
       "      <td>10.0</td>\n",
       "      <td>1393498.0</td>\n",
       "      <td>3.702816e+10</td>\n",
       "      <td>192427.030941</td>\n",
       "    </tr>\n",
       "    <tr>\n",
       "      <th>2</th>\n",
       "      <td>Bronx</td>\n",
       "      <td>B</td>\n",
       "      <td>2016</td>\n",
       "      <td>452286.957265</td>\n",
       "      <td>470000.0</td>\n",
       "      <td>475000.0</td>\n",
       "      <td>899999.0</td>\n",
       "      <td>2.763996e+10</td>\n",
       "      <td>166252.708328</td>\n",
       "    </tr>\n",
       "    <tr>\n",
       "      <th>3</th>\n",
       "      <td>Bronx</td>\n",
       "      <td>B</td>\n",
       "      <td>2017</td>\n",
       "      <td>471981.260820</td>\n",
       "      <td>493395.0</td>\n",
       "      <td>550000.0</td>\n",
       "      <td>1549999.0</td>\n",
       "      <td>3.656647e+10</td>\n",
       "      <td>191223.603040</td>\n",
       "    </tr>\n",
       "    <tr>\n",
       "      <th>4</th>\n",
       "      <td>Bronx</td>\n",
       "      <td>C</td>\n",
       "      <td>2016</td>\n",
       "      <td>502421.931727</td>\n",
       "      <td>519000.0</td>\n",
       "      <td>625000.0</td>\n",
       "      <td>1549990.0</td>\n",
       "      <td>8.539886e+10</td>\n",
       "      <td>292230.828235</td>\n",
       "    </tr>\n",
       "    <tr>\n",
       "      <th>...</th>\n",
       "      <td>...</td>\n",
       "      <td>...</td>\n",
       "      <td>...</td>\n",
       "      <td>...</td>\n",
       "      <td>...</td>\n",
       "      <td>...</td>\n",
       "      <td>...</td>\n",
       "      <td>...</td>\n",
       "      <td>...</td>\n",
       "    </tr>\n",
       "    <tr>\n",
       "      <th>157</th>\n",
       "      <td>Staten Island</td>\n",
       "      <td>S</td>\n",
       "      <td>2017</td>\n",
       "      <td>395919.724138</td>\n",
       "      <td>402000.0</td>\n",
       "      <td>25000.0</td>\n",
       "      <td>900000.0</td>\n",
       "      <td>5.248968e+10</td>\n",
       "      <td>229106.270267</td>\n",
       "    </tr>\n",
       "    <tr>\n",
       "      <th>158</th>\n",
       "      <td>Staten Island</td>\n",
       "      <td>V</td>\n",
       "      <td>2016</td>\n",
       "      <td>357785.695652</td>\n",
       "      <td>280000.0</td>\n",
       "      <td>650000.0</td>\n",
       "      <td>1265000.0</td>\n",
       "      <td>1.079070e+11</td>\n",
       "      <td>328492.016367</td>\n",
       "    </tr>\n",
       "    <tr>\n",
       "      <th>159</th>\n",
       "      <td>Staten Island</td>\n",
       "      <td>V</td>\n",
       "      <td>2017</td>\n",
       "      <td>332461.133333</td>\n",
       "      <td>295292.0</td>\n",
       "      <td>350000.0</td>\n",
       "      <td>1199990.0</td>\n",
       "      <td>7.792322e+10</td>\n",
       "      <td>279147.313163</td>\n",
       "    </tr>\n",
       "    <tr>\n",
       "      <th>160</th>\n",
       "      <td>Staten Island</td>\n",
       "      <td>W</td>\n",
       "      <td>2016</td>\n",
       "      <td>1.000000</td>\n",
       "      <td>1.0</td>\n",
       "      <td>1.0</td>\n",
       "      <td>0.0</td>\n",
       "      <td>0.000000e+00</td>\n",
       "      <td>0.000000</td>\n",
       "    </tr>\n",
       "    <tr>\n",
       "      <th>162</th>\n",
       "      <td>Staten Island</td>\n",
       "      <td>Z</td>\n",
       "      <td>2017</td>\n",
       "      <td>326500.000000</td>\n",
       "      <td>326500.0</td>\n",
       "      <td>363000.0</td>\n",
       "      <td>73000.0</td>\n",
       "      <td>2.664500e+09</td>\n",
       "      <td>51618.795027</td>\n",
       "    </tr>\n",
       "  </tbody>\n",
       "</table>\n",
       "<p>140 rows × 9 columns</p>\n",
       "</div>"
      ],
      "text/plain": [
       "           borough building_class_at_present  year           mean    median  \\\n",
       "0            Bronx                         A  2016  396286.338843  390000.0   \n",
       "1            Bronx                         A  2017  404989.838760  402500.0   \n",
       "2            Bronx                         B  2016  452286.957265  470000.0   \n",
       "3            Bronx                         B  2017  471981.260820  493395.0   \n",
       "4            Bronx                         C  2016  502421.931727  519000.0   \n",
       "..             ...                       ...   ...            ...       ...   \n",
       "157  Staten Island                         S  2017  395919.724138  402000.0   \n",
       "158  Staten Island                         V  2016  357785.695652  280000.0   \n",
       "159  Staten Island                         V  2017  332461.133333  295292.0   \n",
       "160  Staten Island                         W  2016       1.000000       1.0   \n",
       "162  Staten Island                         Z  2017  326500.000000  326500.0   \n",
       "\n",
       "         mode      range      variance  standard_deviation  \n",
       "0    400000.0  1449999.0  3.171911e+10       178098.583630  \n",
       "1        10.0  1393498.0  3.702816e+10       192427.030941  \n",
       "2    475000.0   899999.0  2.763996e+10       166252.708328  \n",
       "3    550000.0  1549999.0  3.656647e+10       191223.603040  \n",
       "4    625000.0  1549990.0  8.539886e+10       292230.828235  \n",
       "..        ...        ...           ...                 ...  \n",
       "157   25000.0   900000.0  5.248968e+10       229106.270267  \n",
       "158  650000.0  1265000.0  1.079070e+11       328492.016367  \n",
       "159  350000.0  1199990.0  7.792322e+10       279147.313163  \n",
       "160       1.0        0.0  0.000000e+00            0.000000  \n",
       "162  363000.0    73000.0  2.664500e+09        51618.795027  \n",
       "\n",
       "[140 rows x 9 columns]"
      ]
     },
     "execution_count": 151,
     "metadata": {},
     "output_type": "execute_result"
    }
   ],
   "source": [
    "mct = outliers_removed.groupby([\"borough\",\"building_class_at_present\",\"year\"]).agg({\"sale_price\":[np.mean,\n",
    "                                                                                    np.median,\n",
    "                                                                                    statistics.mode,\n",
    "                                                                                   np.ptp,\n",
    "                                                                                   np.var,\n",
    "                                                                                   np.std]})\n",
    "mct = mct.reset_index()\n",
    "mct.columns = mct.columns.droplevel(-1)\n",
    "mct.columns = ['borough','building_class_at_present','year','mean','median','mode','range','variance','standard_deviation']\n",
    "mct = mct.dropna()\n",
    "mct"
   ]
  },
  {
   "cell_type": "markdown",
   "metadata": {},
   "source": [
    "Visualize the mean of sale_price from the building_at_present category in every borough."
   ]
  },
  {
   "cell_type": "code",
   "execution_count": 152,
   "metadata": {},
   "outputs": [
    {
     "name": "stderr",
     "output_type": "stream",
     "text": [
      "c:\\Users\\acer_\\AppData\\Local\\Programs\\Python\\Python311\\Lib\\site-packages\\seaborn\\_oldcore.py:1498: FutureWarning: is_categorical_dtype is deprecated and will be removed in a future version. Use isinstance(dtype, CategoricalDtype) instead\n",
      "  if pd.api.types.is_categorical_dtype(vector):\n",
      "c:\\Users\\acer_\\AppData\\Local\\Programs\\Python\\Python311\\Lib\\site-packages\\seaborn\\_oldcore.py:1498: FutureWarning: is_categorical_dtype is deprecated and will be removed in a future version. Use isinstance(dtype, CategoricalDtype) instead\n",
      "  if pd.api.types.is_categorical_dtype(vector):\n",
      "c:\\Users\\acer_\\AppData\\Local\\Programs\\Python\\Python311\\Lib\\site-packages\\seaborn\\_oldcore.py:1498: FutureWarning: is_categorical_dtype is deprecated and will be removed in a future version. Use isinstance(dtype, CategoricalDtype) instead\n",
      "  if pd.api.types.is_categorical_dtype(vector):\n"
     ]
    },
    {
     "data": {
      "image/png": "[encoded data removed]",
      "text/plain": [
       "<Figure size 2000x800 with 1 Axes>"
      ]
     },
     "metadata": {},
     "output_type": "display_data"
    },
    {
     "name": "stderr",
     "output_type": "stream",
     "text": [
      "c:\\Users\\acer_\\AppData\\Local\\Programs\\Python\\Python311\\Lib\\site-packages\\seaborn\\_oldcore.py:1498: FutureWarning: is_categorical_dtype is deprecated and will be removed in a future version. Use isinstance(dtype, CategoricalDtype) instead\n",
      "  if pd.api.types.is_categorical_dtype(vector):\n",
      "c:\\Users\\acer_\\AppData\\Local\\Programs\\Python\\Python311\\Lib\\site-packages\\seaborn\\_oldcore.py:1498: FutureWarning: is_categorical_dtype is deprecated and will be removed in a future version. Use isinstance(dtype, CategoricalDtype) instead\n",
      "  if pd.api.types.is_categorical_dtype(vector):\n",
      "c:\\Users\\acer_\\AppData\\Local\\Programs\\Python\\Python311\\Lib\\site-packages\\seaborn\\_oldcore.py:1498: FutureWarning: is_categorical_dtype is deprecated and will be removed in a future version. Use isinstance(dtype, CategoricalDtype) instead\n",
      "  if pd.api.types.is_categorical_dtype(vector):\n"
     ]
    },
    {
     "data": {
      "image/png": "[encoded data removed]",
      "text/plain": [
       "<Figure size 2000x800 with 1 Axes>"
      ]
     },
     "metadata": {},
     "output_type": "display_data"
    }
   ],
   "source": [
    "for i in mct[\"year\"].unique():\n",
    "\n",
    "    with sns.axes_style(\"whitegrid\"):\n",
    "        plt.figure(figsize=(10,4),dpi=200)\n",
    "        sns.barplot(data=mct[mct[\"year\"] == i],x=\"borough\",y=\"mean\",hue=\"building_class_at_present\",hue_order=np.sort(mct[\"building_class_at_present\"].unique()))\n",
    "        plt.title(f\"Sale Price Average in {i}\", fontsize=17)\n",
    "        plt.xlabel(\"\")\n",
    "        plt.ylabel(\"mean\")\n",
    "        plt.legend(bbox_to_anchor=(1.02,0.5),loc=\"center left\",title=\"Classes\",ncol=2)\n",
    "        plt.show()"
   ]
  },
  {
   "cell_type": "markdown",
   "metadata": {},
   "source": [
    "### Confidence Intervals of Sample Mean\n",
    "Sort the 5 highest borough based on sale_price mean from the building_class_at_present category in 2017."
   ]
  },
  {
   "cell_type": "code",
   "execution_count": 153,
   "metadata": {},
   "outputs": [
    {
     "data": {
      "text/html": [
       "<div>\n",
       "<style scoped>\n",
       "    .dataframe tbody tr th:only-of-type {\n",
       "        vertical-align: middle;\n",
       "    }\n",
       "\n",
       "    .dataframe tbody tr th {\n",
       "        vertical-align: top;\n",
       "    }\n",
       "\n",
       "    .dataframe thead th {\n",
       "        text-align: right;\n",
       "    }\n",
       "</style>\n",
       "<table border=\"1\" class=\"dataframe\">\n",
       "  <thead>\n",
       "    <tr style=\"text-align: right;\">\n",
       "      <th></th>\n",
       "      <th>borough</th>\n",
       "      <th>building_class_at_present</th>\n",
       "      <th>year</th>\n",
       "      <th>mean</th>\n",
       "      <th>median</th>\n",
       "      <th>mode</th>\n",
       "      <th>range</th>\n",
       "      <th>variance</th>\n",
       "      <th>standard_deviation</th>\n",
       "    </tr>\n",
       "  </thead>\n",
       "  <tbody>\n",
       "    <tr>\n",
       "      <th>45</th>\n",
       "      <td>Brooklyn</td>\n",
       "      <td>I</td>\n",
       "      <td>2017</td>\n",
       "      <td>1.070000e+06</td>\n",
       "      <td>1070000.0</td>\n",
       "      <td>975000.0</td>\n",
       "      <td>190000.0</td>\n",
       "      <td>1.805000e+10</td>\n",
       "      <td>134350.288425</td>\n",
       "    </tr>\n",
       "    <tr>\n",
       "      <th>39</th>\n",
       "      <td>Brooklyn</td>\n",
       "      <td>E</td>\n",
       "      <td>2017</td>\n",
       "      <td>1.012385e+06</td>\n",
       "      <td>1050000.0</td>\n",
       "      <td>1000000.0</td>\n",
       "      <td>1524000.0</td>\n",
       "      <td>1.886589e+11</td>\n",
       "      <td>434348.849517</td>\n",
       "    </tr>\n",
       "    <tr>\n",
       "      <th>90</th>\n",
       "      <td>Manhattan</td>\n",
       "      <td>R</td>\n",
       "      <td>2017</td>\n",
       "      <td>8.978346e+05</td>\n",
       "      <td>895041.0</td>\n",
       "      <td>10.0</td>\n",
       "      <td>1556799.0</td>\n",
       "      <td>1.274793e+11</td>\n",
       "      <td>357042.404200</td>\n",
       "    </tr>\n",
       "    <tr>\n",
       "      <th>21</th>\n",
       "      <td>Bronx</td>\n",
       "      <td>O</td>\n",
       "      <td>2017</td>\n",
       "      <td>8.868223e+05</td>\n",
       "      <td>941756.0</td>\n",
       "      <td>450000.0</td>\n",
       "      <td>960000.0</td>\n",
       "      <td>1.339007e+11</td>\n",
       "      <td>365924.399856</td>\n",
       "    </tr>\n",
       "    <tr>\n",
       "      <th>106</th>\n",
       "      <td>Queens</td>\n",
       "      <td>E</td>\n",
       "      <td>2017</td>\n",
       "      <td>8.539279e+05</td>\n",
       "      <td>707000.0</td>\n",
       "      <td>1250000.0</td>\n",
       "      <td>1297657.0</td>\n",
       "      <td>2.274052e+11</td>\n",
       "      <td>476870.214816</td>\n",
       "    </tr>\n",
       "  </tbody>\n",
       "</table>\n",
       "</div>"
      ],
      "text/plain": [
       "       borough building_class_at_present  year          mean     median  \\\n",
       "45    Brooklyn                         I  2017  1.070000e+06  1070000.0   \n",
       "39    Brooklyn                         E  2017  1.012385e+06  1050000.0   \n",
       "90   Manhattan                         R  2017  8.978346e+05   895041.0   \n",
       "21       Bronx                         O  2017  8.868223e+05   941756.0   \n",
       "106     Queens                         E  2017  8.539279e+05   707000.0   \n",
       "\n",
       "          mode      range      variance  standard_deviation  \n",
       "45    975000.0   190000.0  1.805000e+10       134350.288425  \n",
       "39   1000000.0  1524000.0  1.886589e+11       434348.849517  \n",
       "90        10.0  1556799.0  1.274793e+11       357042.404200  \n",
       "21    450000.0   960000.0  1.339007e+11       365924.399856  \n",
       "106  1250000.0  1297657.0  2.274052e+11       476870.214816  "
      ]
     },
     "execution_count": 153,
     "metadata": {},
     "output_type": "execute_result"
    }
   ],
   "source": [
    "top_5 = mct[mct[\"year\"] == 2017].sort_values(\"mean\",ascending=False).head(5)\n",
    "top_5"
   ]
  },
  {
   "cell_type": "markdown",
   "metadata": {},
   "source": [
    "Slice the datasets based on borough, building_class_at_present, and year that have the top 5 highest averages in sale_price. Then create an array of sale_price."
   ]
  },
  {
   "cell_type": "code",
   "execution_count": 154,
   "metadata": {},
   "outputs": [
    {
     "data": {
      "text/plain": [
       "array([ 975000., 1165000.,  585000., ...,  560000.,  475000.,  400530.])"
      ]
     },
     "execution_count": 154,
     "metadata": {},
     "output_type": "execute_result"
    }
   ],
   "source": [
    "temp = []\n",
    "for i,j,k in zip(top_3[\"borough\"],top_3[\"building_class_at_present\"],top_3[\"year\"]):\n",
    "    temp.append(outliers_removed[(outliers_removed[\"borough\"] == i) & \n",
    "                                 (outliers_removed[\"building_class_at_present\"] == j) &\n",
    "                                 (outliers_removed[\"year\"] == k)])\n",
    "    \n",
    "top_5_sale_price = np.array(pd.concat(temp)[\"sale_price\"])\n",
    "top_5_sale_price"
   ]
  },
  {
   "cell_type": "markdown",
   "metadata": {},
   "source": [
    "Take 30 random samples and count their means for 500 times. Then add those values into a list called *sample_means*."
   ]
  },
  {
   "cell_type": "code",
   "execution_count": 155,
   "metadata": {},
   "outputs": [],
   "source": [
    "np.random.seed(807)\n",
    "sample_means = []\n",
    "n = 30 \n",
    "for sample in range(0,500):\n",
    "    sample_values = np.random.choice(a = top_3_sale_price, size = n)\n",
    "    sample_mean = np.mean(sample_values)\n",
    "    sample_means.append(sample_mean)"
   ]
  },
  {
   "cell_type": "markdown",
   "metadata": {},
   "source": [
    "Visualize it, and it can be concluded that our data is normally distributed visuality."
   ]
  },
  {
   "cell_type": "code",
   "execution_count": 156,
   "metadata": {},
   "outputs": [
    {
     "name": "stderr",
     "output_type": "stream",
     "text": [
      "c:\\Users\\acer_\\AppData\\Local\\Programs\\Python\\Python311\\Lib\\site-packages\\seaborn\\_oldcore.py:1498: FutureWarning: is_categorical_dtype is deprecated and will be removed in a future version. Use isinstance(dtype, CategoricalDtype) instead\n",
      "  if pd.api.types.is_categorical_dtype(vector):\n",
      "c:\\Users\\acer_\\AppData\\Local\\Programs\\Python\\Python311\\Lib\\site-packages\\seaborn\\_oldcore.py:1119: FutureWarning: use_inf_as_na option is deprecated and will be removed in a future version. Convert inf values to NaN before operating instead.\n",
      "  with pd.option_context('mode.use_inf_as_na', True):\n"
     ]
    },
    {
     "data": {
      "image/png": "[encoded data removed]",
      "text/plain": [
       "<Figure size 1000x500 with 1 Axes>"
      ]
     },
     "metadata": {},
     "output_type": "display_data"
    }
   ],
   "source": [
    "plt.figure(figsize=(10,5),dpi=100)\n",
    "ax = sns.histplot(data=sample_means,kde=True,color=\"pink\")\n",
    "ax.lines[0].set_color(\"skyblue\")\n",
    "plt.title(\"Distribution of Sample Means ($n=30$) of Top 3 Sale Price\", fontsize=17)\n",
    "plt.xlabel(\"Sample Mean\", labelpad=14)\n",
    "plt.ylabel(\"Frequency\", labelpad=14);\n",
    "plt.show()"
   ]
  },
  {
   "cell_type": "markdown",
   "metadata": {},
   "source": [
    "Calculate the mean of *sample_means*."
   ]
  },
  {
   "cell_type": "code",
   "execution_count": 157,
   "metadata": {},
   "outputs": [
    {
     "data": {
      "text/plain": [
       "898348.1603333333"
      ]
     },
     "execution_count": 157,
     "metadata": {},
     "output_type": "execute_result"
    }
   ],
   "source": [
    "mean_of_sample_means = np.mean(sample_means)\n",
    "mean_of_sample_means"
   ]
  },
  {
   "cell_type": "markdown",
   "metadata": {},
   "source": [
    "Calculate the standard deviation of *sample_means*."
   ]
  },
  {
   "cell_type": "code",
   "execution_count": 158,
   "metadata": {},
   "outputs": [
    {
     "data": {
      "text/plain": [
       "66829.61900551223"
      ]
     },
     "execution_count": 158,
     "metadata": {},
     "output_type": "execute_result"
    }
   ],
   "source": [
    "std_of_sample_means = np.std(sample_means)\n",
    "std_of_sample_means"
   ]
  },
  {
   "cell_type": "markdown",
   "metadata": {},
   "source": [
    "Calculate the standard deviation of *top_5_sale_price*."
   ]
  },
  {
   "cell_type": "code",
   "execution_count": 159,
   "metadata": {},
   "outputs": [
    {
     "data": {
      "text/plain": [
       "357307.72606824903"
      ]
     },
     "execution_count": 159,
     "metadata": {},
     "output_type": "execute_result"
    }
   ],
   "source": [
    "pop_std_dev = top_5_sale_price.std()\n",
    "pop_std_dev"
   ]
  },
  {
   "cell_type": "markdown",
   "metadata": {},
   "source": [
    "Calculate the standard error of *top_5_sale_price*"
   ]
  },
  {
   "cell_type": "code",
   "execution_count": 160,
   "metadata": {},
   "outputs": [
    {
     "data": {
      "text/plain": [
       "65235.16717948556"
      ]
     },
     "execution_count": 160,
     "metadata": {},
     "output_type": "execute_result"
    }
   ],
   "source": [
    "std_error = np.std(top_5_sale_price) / np.sqrt(n)\n",
    "std_error"
   ]
  },
  {
   "cell_type": "markdown",
   "metadata": {},
   "source": [
    "Calculate the value of Z-Score"
   ]
  },
  {
   "cell_type": "code",
   "execution_count": 161,
   "metadata": {},
   "outputs": [
    {
     "data": {
      "text/plain": [
       "1.9599639845400536"
      ]
     },
     "execution_count": 161,
     "metadata": {},
     "output_type": "execute_result"
    }
   ],
   "source": [
    "from statistics import NormalDist\n",
    "\n",
    "confidence = 0.95\n",
    "z = NormalDist().inv_cdf((1 + confidence) / 2)\n",
    "z"
   ]
  },
  {
   "cell_type": "markdown",
   "metadata": {},
   "source": [
    "Calculate the lower limit and upper limit of top_3_sale_price."
   ]
  },
  {
   "cell_type": "code",
   "execution_count": 162,
   "metadata": {},
   "outputs": [
    {
     "name": "stdout",
     "output_type": "stream",
     "text": [
      "Lower Limit\t= 768164.7884694256\n",
      "Upper Limit\t= 1023881.9448639078\n"
     ]
    }
   ],
   "source": [
    "lower = sample_mean_mean - (z * std_error)\n",
    "upper = sample_mean_mean + (z * std_error)\n",
    "\n",
    "for i,j in zip([\"Lower Limit\",\"Upper Limit\"],[lower_95,upper_95]):\n",
    "    print(f\"{i}\\t= {j}\")"
   ]
  },
  {
   "cell_type": "markdown",
   "metadata": {},
   "source": [
    "Visualize the confidence interval of *sample_means*. Based on the plot, it's determined that there's a 95% chance that the mean of a sample of *N* = 25 will be within the blue shaded area. Thus, the probability that the mean of a sample with *N* = 25 will be outside the blue shaded area is 100%-95% = 5%"
   ]
  },
  {
   "cell_type": "code",
   "execution_count": 163,
   "metadata": {},
   "outputs": [
    {
     "data": {
      "image/png": "[encoded data removed]",
      "text/plain": [
       "<Figure size 1000x500 with 1 Axes>"
      ]
     },
     "metadata": {},
     "output_type": "display_data"
    }
   ],
   "source": [
    "plt.figure(figsize=(10,5),dpi=100)\n",
    "kde = gaussian_kde(sample_means)\n",
    "pos = np.linspace(np.min(sample_means), np.max(sample_means), 10000)\n",
    "plt.plot(pos, kde(pos), color=\"lightcoral\")\n",
    "shade = np.linspace(lower, upper, 300)\n",
    "\n",
    "plt.fill_between(shade, kde(shade), alpha=0.45, color='lightcoral')\n",
    "plt.xticks([lower,mean_of_sample_means,upper])\n",
    "plt.xlim(xmin=np.min(sample_means),xmax=np.max(sample_means))\n",
    "plt.ylim(ymin=0)\n",
    "\n",
    "left = np.linspace(np.min(sample_means),lower,10000)\n",
    "right = np.linspace(upper,np.max(sample_means),10000)\n",
    "for i in [left,right]:\n",
    "    plt.fill_between(i,kde(i),color=\"pink\",alpha=0.5)\n",
    "    \n",
    "# plt.text(x=154, y=0.01, horizontalalignment='center', fontsize=3, s=\"95% of sample means fall within\\nthis shaded area of plus or minus\\n1.96 z-scores from the mean\", bbox=dict(facecolor='whitesmoke', boxstyle=\"round, pad=0.1\"))\n",
    "plt.title(\"Distribution of Sample Means ($n=30$) of Top 3 Sale Price\", y=1.1, fontsize=17)\n",
    "plt.xlabel(\"Sample Mean\", labelpad=14)\n",
    "plt.ylabel(\"Frequency\", labelpad=14);\n",
    "plt.show()"
   ]
  },
  {
   "cell_type": "markdown",
   "metadata": {},
   "source": [
    "### Probability Distribution & Hypotesis Testing"
   ]
  },
  {
   "cell_type": "markdown",
   "metadata": {},
   "source": [
    "#### Hypothesis\n",
    "- H0 : *top_1_sale_price* data is normally distributed\n",
    "- H1 : *top_1_sale_price* data is not normally distributed"
   ]
  },
  {
   "cell_type": "markdown",
   "metadata": {},
   "source": [
    "#### Significance Level\n",
    "alpha = 5%"
   ]
  },
  {
   "cell_type": "markdown",
   "metadata": {},
   "source": [
    "#### Test Statistics\n",
    "Slice the datasets based on borough, building_class_at_present, and year that have the top 1 highest averages in sale_price. Then create an array of sale_price"
   ]
  },
  {
   "cell_type": "code",
   "execution_count": 164,
   "metadata": {},
   "outputs": [
    {
     "data": {
      "text/html": [
       "<div>\n",
       "<style scoped>\n",
       "    .dataframe tbody tr th:only-of-type {\n",
       "        vertical-align: middle;\n",
       "    }\n",
       "\n",
       "    .dataframe tbody tr th {\n",
       "        vertical-align: top;\n",
       "    }\n",
       "\n",
       "    .dataframe thead th {\n",
       "        text-align: right;\n",
       "    }\n",
       "</style>\n",
       "<table border=\"1\" class=\"dataframe\">\n",
       "  <thead>\n",
       "    <tr style=\"text-align: right;\">\n",
       "      <th></th>\n",
       "      <th>borough</th>\n",
       "      <th>building_class_at_present</th>\n",
       "      <th>year</th>\n",
       "      <th>mean</th>\n",
       "      <th>median</th>\n",
       "      <th>mode</th>\n",
       "      <th>range</th>\n",
       "      <th>variance</th>\n",
       "      <th>standard_deviation</th>\n",
       "    </tr>\n",
       "  </thead>\n",
       "  <tbody>\n",
       "    <tr>\n",
       "      <th>45</th>\n",
       "      <td>Brooklyn</td>\n",
       "      <td>I</td>\n",
       "      <td>2017</td>\n",
       "      <td>1070000.0</td>\n",
       "      <td>1070000.0</td>\n",
       "      <td>975000.0</td>\n",
       "      <td>190000.0</td>\n",
       "      <td>1.805000e+10</td>\n",
       "      <td>134350.288425</td>\n",
       "    </tr>\n",
       "  </tbody>\n",
       "</table>\n",
       "</div>"
      ],
      "text/plain": [
       "     borough building_class_at_present  year       mean     median      mode  \\\n",
       "45  Brooklyn                         I  2017  1070000.0  1070000.0  975000.0   \n",
       "\n",
       "       range      variance  standard_deviation  \n",
       "45  190000.0  1.805000e+10       134350.288425  "
      ]
     },
     "execution_count": 164,
     "metadata": {},
     "output_type": "execute_result"
    }
   ],
   "source": [
    "top_1 = mct[mct[\"year\"] == 2017].sort_values(\"mean\",ascending=False).head(1)\n",
    "top_1"
   ]
  },
  {
   "cell_type": "code",
   "execution_count": 165,
   "metadata": {},
   "outputs": [
    {
     "data": {
      "text/plain": [
       "array([ 4300000.,  7750184., 11750000.,  5757500., 27813450.,  8550000.,\n",
       "         975000.,  1165000.])"
      ]
     },
     "execution_count": 165,
     "metadata": {},
     "output_type": "execute_result"
    }
   ],
   "source": [
    "top_1_sale_price = np.array(df[(df[\"borough\"]==top_1[\"borough\"].iloc[0]) & \n",
    "                               (df[\"building_class_at_present\"]==top_1[\"building_class_at_present\"].iloc[0]) &\n",
    "                               (df[\"year\"]==top_1[\"year\"].iloc[0])][\"sale_price\"])\n",
    "top_1_sale_price"
   ]
  },
  {
   "cell_type": "markdown",
   "metadata": {},
   "source": [
    "Visualize the data by histogram, if the dataset is normally distributed and check it using Kolmogorov-Smirnov with  Lilliefors significance correction and Shapiro-Wilk tests formally."
   ]
  },
  {
   "cell_type": "code",
   "execution_count": 166,
   "metadata": {},
   "outputs": [
    {
     "name": "stderr",
     "output_type": "stream",
     "text": [
      "c:\\Users\\acer_\\AppData\\Local\\Programs\\Python\\Python311\\Lib\\site-packages\\seaborn\\_oldcore.py:1498: FutureWarning: is_categorical_dtype is deprecated and will be removed in a future version. Use isinstance(dtype, CategoricalDtype) instead\n",
      "  if pd.api.types.is_categorical_dtype(vector):\n",
      "c:\\Users\\acer_\\AppData\\Local\\Programs\\Python\\Python311\\Lib\\site-packages\\seaborn\\_oldcore.py:1119: FutureWarning: use_inf_as_na option is deprecated and will be removed in a future version. Convert inf values to NaN before operating instead.\n",
      "  with pd.option_context('mode.use_inf_as_na', True):\n"
     ]
    },
    {
     "data": {
      "image/png": "[encoded data removed]",
      "text/plain": [
       "<Figure size 1000x400 with 1 Axes>"
      ]
     },
     "metadata": {},
     "output_type": "display_data"
    },
    {
     "data": {
      "text/html": [
       "<div>\n",
       "<style scoped>\n",
       "    .dataframe tbody tr th:only-of-type {\n",
       "        vertical-align: middle;\n",
       "    }\n",
       "\n",
       "    .dataframe tbody tr th {\n",
       "        vertical-align: top;\n",
       "    }\n",
       "\n",
       "    .dataframe thead th {\n",
       "        text-align: right;\n",
       "    }\n",
       "</style>\n",
       "<table border=\"1\" class=\"dataframe\">\n",
       "  <thead>\n",
       "    <tr style=\"text-align: right;\">\n",
       "      <th></th>\n",
       "      <th>Kolmogorov-Smirnov</th>\n",
       "      <th>Prob. (K-S)</th>\n",
       "      <th>Shapiro-Wilk</th>\n",
       "      <th>Prob. (S-W)</th>\n",
       "    </tr>\n",
       "  </thead>\n",
       "  <tbody>\n",
       "    <tr>\n",
       "      <th></th>\n",
       "      <td>0.248039</td>\n",
       "      <td>0.171827</td>\n",
       "      <td>0.804168</td>\n",
       "      <td>0.031717</td>\n",
       "    </tr>\n",
       "  </tbody>\n",
       "</table>\n",
       "</div>"
      ],
      "text/plain": [
       "  Kolmogorov-Smirnov  Prob. (K-S)  Shapiro-Wilk  Prob. (S-W)\n",
       "            0.248039     0.171827      0.804168     0.031717"
      ]
     },
     "execution_count": 166,
     "metadata": {},
     "output_type": "execute_result"
    }
   ],
   "source": [
    "plt.figure(figsize=(10,4), dpi=100)\n",
    "ax = sns.histplot(data=top_1_sale_price,bins=10,kde=True, color=\"pink\")\n",
    "ax.lines[0].set_color(\"lightcoral\")\n",
    "plt.xlabel(\"Sales Price\")\n",
    "plt.ylabel(\"Frequency\")\n",
    "plt.title(\"Distribution of Top 1 Sales Price\", fontsize=17)\n",
    "\n",
    "plt.show()\n",
    "\n",
    "ks_stat,ks_pval = lilliefors(top_1_sale_price,dist=\"norm\",pvalmethod=\"approx\")\n",
    "sw_stat,sw_pval = shapiro(top_1_sale_price)\n",
    "pd.DataFrame({\n",
    "    \"Kolmogorov-Smirnov\":[ks_stat],\n",
    "    \"Prob. (K-S)\":[ks_pval],\n",
    "    \"Shapiro-Wilk\":[sw_stat],\n",
    "    \"Prob. (S-W)\":[sw_pval]\n",
    "},index=[\"\"])"
   ]
  },
  {
   "cell_type": "markdown",
   "metadata": {},
   "source": [
    "**Conclusion :** Based on the output above, we can conclude that visually of data has a substantial positive skewness. So it can be said, that our data is not normally distributed. On the other hand, the probability of Kolmogorov-Smirnov = 0.172 > alpha (0.05) and the probability of Shapiro-Wilk = 0.03 < alpha (0.05), so that it can be concluded that the data is not normally distributed. Therefore, a transformation is needed for fullfilled the assumption of normally distributed."
   ]
  },
  {
   "cell_type": "code",
   "execution_count": 167,
   "metadata": {},
   "outputs": [
    {
     "data": {
      "text/plain": [
       "array([6.63346846, 6.88931201, 7.07003787, 6.76023395, 7.44425486,\n",
       "       6.93196611, 5.98900462, 6.06632593])"
      ]
     },
     "execution_count": 167,
     "metadata": {},
     "output_type": "execute_result"
    }
   ],
   "source": [
    "transform = np.log10(top_1_sale_price)\n",
    "transform"
   ]
  },
  {
   "cell_type": "markdown",
   "metadata": {},
   "source": [
    "Repeat the same step before, visualize by histogram to check the normality visually, and check normality formally using Kolomogorov-Smirnov with Lilliefors significance correction and Shapiro-Wilk tests."
   ]
  },
  {
   "cell_type": "code",
   "execution_count": 168,
   "metadata": {},
   "outputs": [
    {
     "name": "stderr",
     "output_type": "stream",
     "text": [
      "c:\\Users\\acer_\\AppData\\Local\\Programs\\Python\\Python311\\Lib\\site-packages\\seaborn\\_oldcore.py:1498: FutureWarning: is_categorical_dtype is deprecated and will be removed in a future version. Use isinstance(dtype, CategoricalDtype) instead\n",
      "  if pd.api.types.is_categorical_dtype(vector):\n",
      "c:\\Users\\acer_\\AppData\\Local\\Programs\\Python\\Python311\\Lib\\site-packages\\seaborn\\_oldcore.py:1119: FutureWarning: use_inf_as_na option is deprecated and will be removed in a future version. Convert inf values to NaN before operating instead.\n",
      "  with pd.option_context('mode.use_inf_as_na', True):\n"
     ]
    },
    {
     "data": {
      "image/png": "[encoded data removed]",
      "text/plain": [
       "<Figure size 1000x400 with 1 Axes>"
      ]
     },
     "metadata": {},
     "output_type": "display_data"
    },
    {
     "data": {
      "text/html": [
       "<div>\n",
       "<style scoped>\n",
       "    .dataframe tbody tr th:only-of-type {\n",
       "        vertical-align: middle;\n",
       "    }\n",
       "\n",
       "    .dataframe tbody tr th {\n",
       "        vertical-align: top;\n",
       "    }\n",
       "\n",
       "    .dataframe thead th {\n",
       "        text-align: right;\n",
       "    }\n",
       "</style>\n",
       "<table border=\"1\" class=\"dataframe\">\n",
       "  <thead>\n",
       "    <tr style=\"text-align: right;\">\n",
       "      <th></th>\n",
       "      <th>Kolmogorov-Smirnov</th>\n",
       "      <th>Prob. (K-S)</th>\n",
       "      <th>Shapiro-Wilk</th>\n",
       "      <th>Prob. (S-W)</th>\n",
       "    </tr>\n",
       "  </thead>\n",
       "  <tbody>\n",
       "    <tr>\n",
       "      <th></th>\n",
       "      <td>0.177676</td>\n",
       "      <td>0.645378</td>\n",
       "      <td>0.93502</td>\n",
       "      <td>0.562836</td>\n",
       "    </tr>\n",
       "  </tbody>\n",
       "</table>\n",
       "</div>"
      ],
      "text/plain": [
       "  Kolmogorov-Smirnov  Prob. (K-S)  Shapiro-Wilk  Prob. (S-W)\n",
       "            0.177676     0.645378       0.93502     0.562836"
      ]
     },
     "execution_count": 168,
     "metadata": {},
     "output_type": "execute_result"
    }
   ],
   "source": [
    "plt.figure(figsize=(10,4), dpi=100)\n",
    "ax = sns.histplot(data=transform,bins=10,kde=True, color=\"pink\")\n",
    "ax.lines[0].set_color(\"lightcoral\")\n",
    "plt.xlabel(\"Sales Price\")\n",
    "plt.ylabel(\"Frequency\")\n",
    "plt.title(\"Distribution of Top 1 Sales Price\", fontsize=17)\n",
    "\n",
    "plt.show()\n",
    "\n",
    "ks_stat,ks_pval = lilliefors(transform,dist=\"norm\",pvalmethod=\"approx\")\n",
    "sw_stat,sw_pval = shapiro(transform)\n",
    "pd.DataFrame({\n",
    "    \"Kolmogorov-Smirnov\":[ks_stat],\n",
    "    \"Prob. (K-S)\":[ks_pval],\n",
    "    \"Shapiro-Wilk\":[sw_stat],\n",
    "    \"Prob. (S-W)\":[sw_pval]\n",
    "},index=[\"\"])"
   ]
  },
  {
   "cell_type": "markdown",
   "metadata": {},
   "source": [
    "**Conclusion:** Based on the output above, it can be seen visually that the distribution is approximately symmetric, so it seems it's normally distributed. Then formally, the probability of Kolmogorov-Smirnov = 0.645 > alpha (0.05) and the p-values of Shapiro-Wilk = 0.56 > alpha(0.05). So that it can be concluded that the data are normally distributed. Therefore, the assumption of normality visually and formally fulfilled."
   ]
  }
 ],
 "metadata": {
  "kernelspec": {
   "display_name": "Python 3",
   "language": "python",
   "name": "python3"
  },
  "language_info": {
   "codemirror_mode": {
    "name": "ipython",
    "version": 3
   },
   "file_extension": ".py",
   "mimetype": "text/x-python",
   "name": "python",
   "nbconvert_exporter": "python",
   "pygments_lexer": "ipython3",
   "version": "3.11.5"
  }
 },
 "nbformat": 4,
 "nbformat_minor": 2
}
