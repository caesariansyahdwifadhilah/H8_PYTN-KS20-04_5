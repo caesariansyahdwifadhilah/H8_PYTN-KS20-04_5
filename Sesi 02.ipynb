{
 "cells": [
  {
   "cell_type": "markdown",
   "metadata": {},
   "source": [
    "# Conditional\n",
    "```\n",
    "if condition:\n",
    "    action statement\n",
    "```\n",
    "cuma jalan jika condition == True"
   ]
  },
  {
   "cell_type": "code",
   "execution_count": 5,
   "metadata": {},
   "outputs": [
    {
     "name": "stdout",
     "output_type": "stream",
     "text": [
      "ini saya\n"
     ]
    }
   ],
   "source": [
    "if True:\n",
    "    print('ini saya')"
   ]
  },
  {
   "cell_type": "code",
   "execution_count": 6,
   "metadata": {},
   "outputs": [],
   "source": [
    "if False:\n",
    "    print('ini saya')"
   ]
  },
  {
   "cell_type": "code",
   "execution_count": 10,
   "metadata": {},
   "outputs": [
    {
     "name": "stdout",
     "output_type": "stream",
     "text": [
      "iya, makan\n"
     ]
    }
   ],
   "source": [
    "if 'saya' in 'saya mau makan':\n",
    "    print('iya, makan')"
   ]
  },
  {
   "cell_type": "code",
   "execution_count": 13,
   "metadata": {},
   "outputs": [
    {
     "name": "stdout",
     "output_type": "stream",
     "text": [
      "code jalan\n"
     ]
    }
   ],
   "source": [
    "x = 4\n",
    "\n",
    "if x > 3:\n",
    "    print('code jalan')"
   ]
  },
  {
   "cell_type": "code",
   "execution_count": 21,
   "metadata": {},
   "outputs": [
    {
     "name": "stdout",
     "output_type": "stream",
     "text": [
      "yes\n",
      "jalan 3\n",
      "jalan 5\n"
     ]
    }
   ],
   "source": [
    "x = 5\n",
    "y = 0\n",
    "\n",
    "# Kalau bukan 0, angka dinilai True\n",
    "if x < y: \n",
    "    print ('yes')\n",
    "\n",
    "if x > y: \n",
    "    print ('yes')\n",
    "\n",
    "# Kalau ada string, dinilai True\n",
    "if x:\n",
    "    print('jalan 3')\n",
    "\n",
    "if y:\n",
    "    print('jalan5')\n",
    "\n",
    "if 'a':\n",
    "    print('jalan 5')\n",
    "\n",
    "# Kalau empty string, dinilai False\n",
    "if \"\":\n",
    "    print(\"jalan 5\")\n"
   ]
  },
  {
   "cell_type": "code",
   "execution_count": 24,
   "metadata": {},
   "outputs": [
    {
     "name": "stdout",
     "output_type": "stream",
     "text": [
      "ga jalan\n",
      "code block di dalam if\n",
      "code di luar if\n"
     ]
    }
   ],
   "source": [
    "if True: (\n",
    "    (print(\"ga jalan\")),\n",
    "\n",
    "    (print(\"code block di dalam if\"))\n",
    ")\n",
    "print(\"code di luar if\")"
   ]
  },
  {
   "cell_type": "code",
   "execution_count": 26,
   "metadata": {},
   "outputs": [],
   "source": [
    "if True:\n",
    "    (\"a\",\"b\")"
   ]
  },
  {
   "cell_type": "code",
   "execution_count": 30,
   "metadata": {},
   "outputs": [
    {
     "name": "stdout",
     "output_type": "stream",
     "text": [
      "jalan 1\n",
      "jalan 2\n"
     ]
    }
   ],
   "source": [
    "#code block bisa nested\n",
    "if True:  #bisa jalan karena atas nya True\n",
    "    print(\"jalan 1\")\n",
    "    if True:\n",
    "        print(\"jalan 2\")\n",
    "        if False:\n",
    "            print(\"kita jalan-jalan\")"
   ]
  },
  {
   "cell_type": "code",
   "execution_count": 32,
   "metadata": {},
   "outputs": [],
   "source": [
    "#code block bisa nested\n",
    "if False:  #bisa jalan karena atas nya True\n",
    "    print(\"jalan 1\")\n",
    "    if True:\n",
    "        print(\"jalan 2\")\n",
    "        if False:\n",
    "            print(\"kita jalan-jalan\")\n",
    "\n",
    "#Nah, kenapa ga bisa jalan? Karena parent yang diluar/atas adalah False"
   ]
  },
  {
   "cell_type": "code",
   "execution_count": 39,
   "metadata": {},
   "outputs": [
    {
     "name": "stdout",
     "output_type": "stream",
     "text": [
      "outer cond benar\n",
      "inner cond 2\n",
      "outer cond selesai\n",
      "di luar cond\n"
     ]
    }
   ],
   "source": [
    "if \"foo\" in [\"foo\", \"bar\", \"baz\"]:\n",
    "    print(\"outer cond benar\") #jalan\n",
    "    if 10 > 20:\n",
    "        print(\"inner cond 1\") #ga jalan\n",
    "    if 10<20:\n",
    "        print(\"inner cond 2\") #jalan\n",
    "    print(\"outer cond selesai\") #jalan \n",
    "print(\"di luar cond\") #jalan"
   ]
  },
  {
   "cell_type": "code",
   "execution_count": 41,
   "metadata": {},
   "outputs": [
    {
     "name": "stdout",
     "output_type": "stream",
     "text": [
      "altr 1\n"
     ]
    }
   ],
   "source": [
    "if False:\n",
    "    print(\"cond1\")\n",
    "else:\n",
    "    print(\"altr 1\")   #digunakan ketika pernyataan condition false"
   ]
  },
  {
   "cell_type": "code",
   "execution_count": 43,
   "metadata": {},
   "outputs": [
    {
     "name": "stdout",
     "output_type": "stream",
     "text": [
      "cond1\n",
      "ke sini\n"
     ]
    }
   ],
   "source": [
    "if True:\n",
    "    print(\"cond1\")\n",
    "else:\n",
    "    print(\"altr 1\")   #digunakan ketika pernyataan condition false\n",
    "print(\"ke sini\")"
   ]
  },
  {
   "cell_type": "code",
   "execution_count": 46,
   "metadata": {},
   "outputs": [
    {
     "name": "stdout",
     "output_type": "stream",
     "text": [
      "(first suite)\n",
      "x is small\n"
     ]
    }
   ],
   "source": [
    "x = 25\n",
    "if x < 50:\n",
    "    print(\"(first suite)\")\n",
    "    print(\"x is small\")\n",
    "else:\n",
    "    print(\"(second suite)\")\n",
    "    print(\"x is large\")"
   ]
  },
  {
   "cell_type": "code",
   "execution_count": 47,
   "metadata": {},
   "outputs": [
    {
     "name": "stdout",
     "output_type": "stream",
     "text": [
      "(second suite)\n",
      "x is large\n"
     ]
    }
   ],
   "source": [
    "x = 90\n",
    "if x < 50:\n",
    "    print(\"(first suite)\")\n",
    "    print(\"x is small\")\n",
    "else:\n",
    "    print(\"(second suite)\")\n",
    "    print(\"x is large\")"
   ]
  },
  {
   "cell_type": "code",
   "execution_count": 49,
   "metadata": {},
   "outputs": [
    {
     "name": "stdout",
     "output_type": "stream",
     "text": [
      "uang ga cukup\n"
     ]
    }
   ],
   "source": [
    "price = 20000\n",
    "magazine = 5000\n",
    "uang = 2000\n",
    "\n",
    "if uang > price:\n",
    "    print(\"beli buku\")\n",
    "elif uang > magazine:\n",
    "    print(\"tumbas magazine\")\n",
    "else:\n",
    "    print(\"uang ga cukup\")"
   ]
  }
 ],
 "metadata": {
  "kernelspec": {
   "display_name": ".venv",
   "language": "python",
   "name": "python3"
  },
  "language_info": {
   "codemirror_mode": {
    "name": "ipython",
    "version": 3
   },
   "file_extension": ".py",
   "mimetype": "text/x-python",
   "name": "python",
   "nbconvert_exporter": "python",
   "pygments_lexer": "ipython3",
   "version": "3.11.5"
  },
  "orig_nbformat": 4
 },
 "nbformat": 4,
 "nbformat_minor": 2
}
